{
 "cells": [
  {
   "cell_type": "markdown",
   "metadata": {},
   "source": [
    "# Add data from [MTGTop8](https://www.mtgtop8.com/)"
   ]
  },
  {
   "cell_type": "code",
   "metadata": {
    "ExecuteTime": {
     "end_time": "2024-04-21T03:33:12.284924Z",
     "start_time": "2024-04-21T03:33:12.282720Z"
    }
   },
   "source": [
    "import requests\n",
    "\n",
    "from bs4 import BeautifulSoup\n",
    "from datetime import datetime\n",
    "from services.db_service import DbService"
   ],
   "outputs": [],
   "execution_count": 15
  },
  {
   "cell_type": "code",
   "metadata": {
    "ExecuteTime": {
     "end_time": "2024-04-21T03:33:12.290150Z",
     "start_time": "2024-04-21T03:33:12.285990Z"
    }
   },
   "source": [
    "db_service = DbService()\n",
    "pilots_collection = db_service.pilots_collection()\n",
    "decks_collection = db_service.deck_collection()\n",
    "events_collection = db_service.events_collection()"
   ],
   "outputs": [],
   "execution_count": 16
  },
  {
   "cell_type": "code",
   "metadata": {
    "ExecuteTime": {
     "end_time": "2024-04-21T03:33:12.296558Z",
     "start_time": "2024-04-21T03:33:12.294920Z"
    }
   },
   "source": [
    "base_url = \"https://www.mtgtop8.com/\""
   ],
   "outputs": [],
   "execution_count": 17
  },
  {
   "cell_type": "code",
   "metadata": {
    "ExecuteTime": {
     "end_time": "2024-04-21T03:33:12.310823Z",
     "start_time": "2024-04-21T03:33:12.308562Z"
    }
   },
   "source": [
    "def insert_or_get_pilot_id(name):\n",
    "    existing_pilot = pilots_collection.find_one({\"name\": name})\n",
    "    if existing_pilot:\n",
    "        return existing_pilot[\"_id\"]\n",
    "    else:\n",
    "        print(\"Cadastrando novo piloto\")\n",
    "        return pilots_collection.insert_one({\n",
    "            \"name\": name,\n",
    "            \"createdAt\": datetime.now(),\n",
    "            \"updatedAt\": datetime.now(),\n",
    "        }).inserted_id"
   ],
   "outputs": [],
   "execution_count": 18
  },
  {
   "cell_type": "code",
   "metadata": {
    "ExecuteTime": {
     "end_time": "2024-04-21T03:33:12.314828Z",
     "start_time": "2024-04-21T03:33:12.311695Z"
    }
   },
   "source": [
    "def insert_or_get_deck_id(name, maindeck, sideboard, format):\n",
    "    maindeck.sort()\n",
    "    sideboard.sort()\n",
    "\n",
    "    md_text = \"|\".join(maindeck)\n",
    "    sb_text = \"|\".join(sideboard)\n",
    "\n",
    "    existing_deck = decks_collection.find_one({\n",
    "        \"maindeckText\": md_text,\n",
    "        \"sideboardText\": sb_text,\n",
    "        \"format\": format\n",
    "    })\n",
    "    if existing_deck:\n",
    "        return existing_deck[\"_id\"]\n",
    "    else:\n",
    "        print(\"Cadastrando novo deck\")\n",
    "        return decks_collection.insert_one({\n",
    "            \"name\": name,\n",
    "            \"format\": format,\n",
    "            \"maindeck\": maindeck,\n",
    "            \"sideboard\": sideboard,\n",
    "            \"maindeckText\": md_text,\n",
    "            \"sideboardText\": sb_text,\n",
    "            \"createdAt\": datetime.now(),\n",
    "            \"updatedAt\": datetime.now(),\n",
    "        }).inserted_id"
   ],
   "outputs": [],
   "execution_count": 19
  },
  {
   "cell_type": "code",
   "metadata": {
    "ExecuteTime": {
     "end_time": "2024-04-21T03:33:12.318092Z",
     "start_time": "2024-04-21T03:33:12.315555Z"
    }
   },
   "source": [
    "def insert_or_get_event_id(name, location, date, format, participants):\n",
    "    event = events_collection.find_one({\n",
    "        \"name\": name,\n",
    "        \"date\": date,\n",
    "        \"format\": format,\n",
    "    })\n",
    "    if event:\n",
    "        return event[\"_id\"]\n",
    "    else:\n",
    "        print(\"Cadastrando novo evento\")\n",
    "        return events_collection.insert_one({\n",
    "            \"name\": name,\n",
    "            \"date\": date,\n",
    "            \"format\": format,\n",
    "            \"location\": location,\n",
    "            \"participants\": participants,\n",
    "            \"createdAt\": datetime.now(),\n",
    "            \"updatedAt\": datetime.now(),\n",
    "        }).inserted_id"
   ],
   "outputs": [],
   "execution_count": 20
  },
  {
   "cell_type": "code",
   "metadata": {
    "ExecuteTime": {
     "end_time": "2024-04-21T03:33:12.321054Z",
     "start_time": "2024-04-21T03:33:12.318788Z"
    }
   },
   "source": [
    "def extract_event_links(url):\n",
    "    response = requests.get(url)\n",
    "    if response.status_code != 200:\n",
    "        return f\"Falha ao obter a página: {response.status_code}\"\n",
    "\n",
    "    bs = BeautifulSoup(response.text, \"html.parser\")\n",
    "    events_table = bs.find_all(class_=\"Stable\")\n",
    "\n",
    "    if not events_table[1]:\n",
    "        return f\"Table de eventos não encontrada\"\n",
    "\n",
    "    events_link = []\n",
    "    for row in events_table[1].find_all(\"tr\"):\n",
    "        event_link = row.find(\"a\")\n",
    "        if event_link:\n",
    "            events_link.append(base_url + event_link[\"href\"])\n",
    "\n",
    "    return events_link"
   ],
   "outputs": [],
   "execution_count": 21
  },
  {
   "cell_type": "code",
   "metadata": {
    "ExecuteTime": {
     "end_time": "2024-04-21T03:33:12.323585Z",
     "start_time": "2024-04-21T03:33:12.321774Z"
    }
   },
   "source": [
    "def string_to_date(date_str):\n",
    "    date = date_str.split(\" - \")\n",
    "    date_format = \"%d/%m/%y\"\n",
    "\n",
    "    if len(date) > 1:\n",
    "        return datetime.strptime(date[1], date_format)\n",
    "    return datetime.strptime(date_str, date_format)"
   ],
   "outputs": [],
   "execution_count": 22
  },
  {
   "cell_type": "code",
   "metadata": {
    "ExecuteTime": {
     "end_time": "2024-04-21T03:33:12.326943Z",
     "start_time": "2024-04-21T03:33:12.324169Z"
    }
   },
   "source": [
    "def extract_event_data(url):\n",
    "    response = requests.get(url)\n",
    "    if response.status_code != 200:\n",
    "        return f\"Falha ao obter a página: {response.status_code}\"\n",
    "\n",
    "    bs = BeautifulSoup(response.text, \"html.parser\")\n",
    "\n",
    "    name = bs.find(\"div\", class_=\"event_title\").text.strip()\n",
    "    format = bs.find(\"div\", class_=\"meta_arch\").text.strip()\n",
    "    date_str = bs.find(\"div\", class_=\"meta_arch\").find_next(\"div\").text.strip()\n",
    "    date = string_to_date(date_str)\n",
    "\n",
    "    decks = bs.find_all(class_=['hover_tr', 'chosen_tr'])\n",
    "\n",
    "    decks_url = []\n",
    "    for el in decks:\n",
    "        if not el:\n",
    "            continue\n",
    "\n",
    "        anchor = el.find(\"a\")\n",
    "        if not anchor:\n",
    "            continue\n",
    "\n",
    "        link = anchor[\"href\"]\n",
    "        if link:\n",
    "            decks_url.append(f\"{base_url}event{link}\")\n",
    "\n",
    "    return name, format, date, decks_url"
   ],
   "outputs": [],
   "execution_count": 23
  },
  {
   "cell_type": "code",
   "metadata": {
    "ExecuteTime": {
     "end_time": "2024-04-21T03:33:12.331977Z",
     "start_time": "2024-04-21T03:33:12.327721Z"
    }
   },
   "source": [
    "\n",
    "def rename_name_sticker_goblin(list):\n",
    "    return [card.replace(\"________ Goblin\", \"_____ Goblin\", 1) for card in list]\n",
    "\n",
    "\n",
    "def remove_unused_snow_covered_lands(list):\n",
    "    snow_cards = [\n",
    "        \"Arctic Foxes\", \"Balduvian Conjurer\", \"Barbarian Guides\", \"Drift of the Dead\", \"Frost Bite\",\n",
    "        \"Icequake\", \"Into the North\", \"Kjeldoran Guard\", \"Priest of the Haunted Edge\", \"Rimewind Taskmage\",\n",
    "        \"Ronom Serpent\", \"Sculptor of Winter\", \"Skred\", \"Snow Devil\", \"Thermokarst\",\n",
    "        \"Whiteout\", \"Woolly Mammoths\", \"Zombie Musher\"\n",
    "    ]\n",
    "    snow_lands = [\"Snow-Covered Plains\", \"Snow-Covered Island\",\n",
    "                  \"Snow-Covered Black\", \"Snow-Covered Mountain\", \"Snow-Covered Forest\"]\n",
    "\n",
    "    if not any(item in list for item in snow_cards) and any(item in list for item in snow_lands):\n",
    "        print(\"Removendo Snow-Lands\")\n",
    "        return [card.replace(\"Snow-Covered \", \"\", 1) for card in list]\n",
    "    return list\n",
    "\n",
    "\n",
    "def extract_deck_data(url):\n",
    "    response = requests.get(url)\n",
    "    if response.status_code != 200:\n",
    "        return f\"Falha ao obter a página: {response.status_code}\"\n",
    "\n",
    "    bs = BeautifulSoup(response.text, \"html.parser\")\n",
    "    info = bs.find(class_=\"chosen_tr\").find_all(\"a\")\n",
    "    decklist = bs.find_all(\"div\", class_=\"deck_line\")\n",
    "\n",
    "    name = info[1].text.strip()\n",
    "    pilot = info[2].text.strip()\n",
    "\n",
    "    md = []\n",
    "    sb = []\n",
    "    for el in decklist:\n",
    "        id = el[\"id\"]\n",
    "        card = el.text.split(maxsplit=1)\n",
    "\n",
    "        card_quantity = card[0].strip()\n",
    "        card_name = card[1].strip()\n",
    "\n",
    "        if id.startswith(\"md\"):\n",
    "            md.extend([card_name] * int(card_quantity))\n",
    "        elif id.startswith(\"sb\"):\n",
    "            sb.extend([card_name] * int(card_quantity))\n",
    "\n",
    "    md = rename_name_sticker_goblin(md)\n",
    "    sb = rename_name_sticker_goblin(sb)\n",
    "\n",
    "    md = remove_unused_snow_covered_lands(md)\n",
    "    sb = remove_unused_snow_covered_lands(sb)\n",
    "\n",
    "    return name, pilot, md, sb"
   ],
   "outputs": [],
   "execution_count": 24
  },
  {
   "cell_type": "code",
   "metadata": {
    "ExecuteTime": {
     "end_time": "2024-04-21T03:33:12.335191Z",
     "start_time": "2024-04-21T03:33:12.332561Z"
    }
   },
   "source": [
    "def get_event_name_and_location(event):\n",
    "    splitted_event = event.split(\" @ \")\n",
    "    if len(splitted_event) > 1:\n",
    "        return splitted_event[0].strip(), splitted_event[1].strip()\n",
    "\n",
    "    return event.strip(), None"
   ],
   "outputs": [],
   "execution_count": 25
  },
  {
   "cell_type": "code",
   "metadata": {
    "ExecuteTime": {
     "end_time": "2024-04-21T05:14:28.095706Z",
     "start_time": "2024-04-21T05:14:16.263011Z"
    }
   },
   "source": [
    "events = []\n",
    "\n",
    "max_pages = 2\n",
    "for i in range(1, max_pages + 1):\n",
    "    events.extend(extract_event_links(\n",
    "        f\"{base_url}format?f=PAU&meta=282&cp={i}\"))\n",
    "    print(f\"Eventos da página {i} adicionados\")"
   ],
   "outputs": [
    {
     "name": "stdout",
     "output_type": "stream",
     "text": [
      "Eventos da página 1 adicionados\n",
      "Eventos da página 2 adicionados\n",
      "Eventos da página 3 adicionados\n",
      "Eventos da página 4 adicionados\n",
      "Eventos da página 5 adicionados\n",
      "Eventos da página 6 adicionados\n",
      "Eventos da página 7 adicionados\n",
      "Eventos da página 8 adicionados\n",
      "Eventos da página 9 adicionados\n",
      "Eventos da página 10 adicionados\n",
      "Total de eventos: 200\n"
     ]
    }
   ],
   "execution_count": 30
  },
  {
   "cell_type": "code",
   "metadata": {
    "ExecuteTime": {
     "end_time": "2024-04-21T05:14:16.262054Z",
     "start_time": "2024-04-21T04:47:35.683552Z"
    }
   },
   "source": [
    "for event in events:\n",
    "    e_name_location, e_format, e_date, decks_url = extract_event_data(event)\n",
    "    e_name, e_location = get_event_name_and_location(e_name_location)\n",
    "\n",
    "    participants = []\n",
    "    for deck_url in decks_url:\n",
    "        name, pilot, md, sb = extract_deck_data(deck_url)\n",
    "\n",
    "        pilot_id = insert_or_get_pilot_id(pilot)\n",
    "        deck_id = insert_or_get_deck_id(name, md, sb, e_format)\n",
    "\n",
    "        participants.append({\"pilot\": pilot_id, \"deck\": deck_id})\n",
    "\n",
    "    event_id = insert_or_get_event_id(\n",
    "        e_name, e_location, e_date, e_format, participants)"
   ],
   "outputs": [
    {
     "name": "stdout",
     "output_type": "stream",
     "text": [
      "Removendo Snow-Lands\n",
      "Removendo Snow-Lands\n",
      "Removendo Snow-Lands\n",
      "Removendo Snow-Lands\n",
      "Removendo Snow-Lands\n",
      "Removendo Snow-Lands\n",
      "Removendo Snow-Lands\n",
      "Removendo Snow-Lands\n",
      "Removendo Snow-Lands\n",
      "Removendo Snow-Lands\n",
      "Removendo Snow-Lands\n",
      "Removendo Snow-Lands\n",
      "Removendo Snow-Lands\n",
      "Removendo Snow-Lands\n",
      "Removendo Snow-Lands\n",
      "Removendo Snow-Lands\n",
      "Removendo Snow-Lands\n",
      "Removendo Snow-Lands\n",
      "Removendo Snow-Lands\n",
      "Removendo Snow-Lands\n",
      "Removendo Snow-Lands\n",
      "Removendo Snow-Lands\n",
      "Removendo Snow-Lands\n",
      "Removendo Snow-Lands\n",
      "Removendo Snow-Lands\n",
      "Removendo Snow-Lands\n",
      "Removendo Snow-Lands\n",
      "Removendo Snow-Lands\n",
      "Removendo Snow-Lands\n",
      "Removendo Snow-Lands\n",
      "Removendo Snow-Lands\n",
      "Removendo Snow-Lands\n",
      "Removendo Snow-Lands\n",
      "Removendo Snow-Lands\n",
      "Removendo Snow-Lands\n",
      "Removendo Snow-Lands\n",
      "Removendo Snow-Lands\n",
      "Removendo Snow-Lands\n",
      "Removendo Snow-Lands\n",
      "Removendo Snow-Lands\n",
      "Removendo Snow-Lands\n",
      "Removendo Snow-Lands\n",
      "Removendo Snow-Lands\n",
      "Removendo Snow-Lands\n",
      "Removendo Snow-Lands\n",
      "Removendo Snow-Lands\n",
      "Removendo Snow-Lands\n",
      "Removendo Snow-Lands\n",
      "Removendo Snow-Lands\n",
      "Removendo Snow-Lands\n",
      "Removendo Snow-Lands\n",
      "Removendo Snow-Lands\n",
      "Removendo Snow-Lands\n",
      "Removendo Snow-Lands\n",
      "Removendo Snow-Lands\n",
      "Removendo Snow-Lands\n",
      "Removendo Snow-Lands\n",
      "Removendo Snow-Lands\n",
      "Removendo Snow-Lands\n",
      "Removendo Snow-Lands\n",
      "Removendo Snow-Lands\n",
      "Removendo Snow-Lands\n"
     ]
    }
   ],
   "execution_count": 29
  },
  {
   "metadata": {},
   "cell_type": "code",
   "outputs": [],
   "execution_count": null,
   "source": ""
  }
 ],
 "metadata": {
  "kernelspec": {
   "display_name": "Python 3",
   "language": "python",
   "name": "python3"
  },
  "language_info": {
   "codemirror_mode": {
    "name": "ipython",
    "version": 3
   },
   "file_extension": ".py",
   "mimetype": "text/x-python",
   "name": "python",
   "nbconvert_exporter": "python",
   "pygments_lexer": "ipython3",
   "version": "3.12.3"
  }
 },
 "nbformat": 4,
 "nbformat_minor": 2
}
