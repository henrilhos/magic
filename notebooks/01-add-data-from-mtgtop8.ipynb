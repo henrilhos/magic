{
 "cells": [
  {
   "cell_type": "markdown",
   "metadata": {},
   "source": [
    "# Add data from [MTGTop8](https://www.mtgtop8.com/)"
   ]
  },
  {
   "cell_type": "code",
   "execution_count": 53,
   "metadata": {
    "ExecuteTime": {
     "end_time": "2024-04-21T03:33:12.284924Z",
     "start_time": "2024-04-21T03:33:12.282720Z"
    }
   },
   "outputs": [],
   "source": [
    "\n",
    "import requests\n",
    "\n",
    "from bs4 import BeautifulSoup\n",
    "from datetime import datetime\n",
    "from services.db_service import DbService\n",
    "from services.utils import rename_name_sticker_goblin, remove_snow_covered_lands"
   ]
  },
  {
   "cell_type": "code",
   "execution_count": 54,
   "metadata": {
    "ExecuteTime": {
     "end_time": "2024-04-21T03:33:12.290150Z",
     "start_time": "2024-04-21T03:33:12.285990Z"
    }
   },
   "outputs": [],
   "source": [
    "db_service = DbService()\n",
    "pilots_collection = db_service.pilots_collection()\n",
    "decks_collection = db_service.deck_collection()\n",
    "events_collection = db_service.events_collection()"
   ]
  },
  {
   "cell_type": "code",
   "execution_count": 55,
   "metadata": {
    "ExecuteTime": {
     "end_time": "2024-04-21T03:33:12.296558Z",
     "start_time": "2024-04-21T03:33:12.294920Z"
    }
   },
   "outputs": [],
   "source": [
    "base_url = \"https://www.mtgtop8.com/\""
   ]
  },
  {
   "cell_type": "code",
   "execution_count": 56,
   "metadata": {
    "ExecuteTime": {
     "end_time": "2024-04-21T03:33:12.310823Z",
     "start_time": "2024-04-21T03:33:12.308562Z"
    }
   },
   "outputs": [],
   "source": [
    "def insert_or_get_pilot_id(name):\n",
    "    existing_pilot = pilots_collection.find_one({\"name\": name.lower()})\n",
    "    if existing_pilot:\n",
    "        return existing_pilot[\"_id\"]\n",
    "    else:\n",
    "        return pilots_collection.insert_one({\n",
    "            \"name\": name.lower(),\n",
    "            \"created_at\": datetime.now(),\n",
    "            \"updated_at\": datetime.now(),\n",
    "        }).inserted_id"
   ]
  },
  {
   "cell_type": "code",
   "execution_count": 57,
   "metadata": {
    "ExecuteTime": {
     "end_time": "2024-04-21T03:33:12.314828Z",
     "start_time": "2024-04-21T03:33:12.311695Z"
    }
   },
   "outputs": [],
   "source": [
    "def insert_or_get_deck_id(name, maindeck, sideboard, format):\n",
    "    maindeck.sort()\n",
    "    sideboard.sort()\n",
    "\n",
    "    md_text = \"|\".join(maindeck)\n",
    "    sb_text = \"|\".join(sideboard)\n",
    "\n",
    "    existing_deck = decks_collection.find_one({\n",
    "        \"maindeckText\": md_text,\n",
    "        \"sideboardText\": sb_text,\n",
    "        \"format\": format\n",
    "    })\n",
    "    if existing_deck:\n",
    "        return existing_deck[\"_id\"]\n",
    "    else:\n",
    "        return decks_collection.insert_one({\n",
    "            \"name\": name,\n",
    "            \"format\": format,\n",
    "            \"maindeck\": maindeck,\n",
    "            \"sideboard\": sideboard,\n",
    "            \"maindeckText\": md_text,\n",
    "            \"sideboardText\": sb_text,\n",
    "            \"created_at\": datetime.now(),\n",
    "            \"updated_at\": datetime.now(),\n",
    "        }).inserted_id"
   ]
  },
  {
   "cell_type": "code",
   "execution_count": 58,
   "metadata": {
    "ExecuteTime": {
     "end_time": "2024-04-21T03:33:12.318092Z",
     "start_time": "2024-04-21T03:33:12.315555Z"
    }
   },
   "outputs": [],
   "source": [
    "def insert_or_get_event_id(name, location, date, format, participants):\n",
    "    event = events_collection.find_one({\n",
    "        \"name\": name,\n",
    "        \"date\": date,\n",
    "        \"format\": format,\n",
    "    })\n",
    "    if event:\n",
    "        events_collection.update_one({\"_id\": event[\"_id\"]}, {\n",
    "                                     \"$set\": {\"location\": location, \"participants\": participants, \"updated_at\": datetime.now()}})\n",
    "        return event[\"_id\"]\n",
    "    else:\n",
    "        return events_collection.insert_one({\n",
    "            \"name\": name,\n",
    "            \"date\": date,\n",
    "            \"format\": format,\n",
    "            \"location\": location,\n",
    "            \"participants\": participants,\n",
    "            \"created_at\": datetime.now(),\n",
    "            \"updated_at\": datetime.now(),\n",
    "        }).inserted_id"
   ]
  },
  {
   "cell_type": "code",
   "execution_count": 59,
   "metadata": {
    "ExecuteTime": {
     "end_time": "2024-04-21T03:33:12.321054Z",
     "start_time": "2024-04-21T03:33:12.318788Z"
    }
   },
   "outputs": [],
   "source": [
    "def extract_event_links(url):\n",
    "    response = requests.get(url)\n",
    "    if response.status_code != 200:\n",
    "        return f\"Falha ao obter a página: {response.status_code}\"\n",
    "\n",
    "    bs = BeautifulSoup(response.text, \"html.parser\")\n",
    "    events_table = bs.find_all(class_=\"Stable\")\n",
    "\n",
    "    if not events_table[1]:\n",
    "        return f\"Table de eventos não encontrada\"\n",
    "\n",
    "    events_link = []\n",
    "    for row in events_table[1].find_all(\"tr\"):\n",
    "        event_link = row.find(\"a\")\n",
    "        if event_link:\n",
    "            events_link.append(base_url + event_link[\"href\"])\n",
    "\n",
    "    return events_link"
   ]
  },
  {
   "cell_type": "code",
   "execution_count": 60,
   "metadata": {
    "ExecuteTime": {
     "end_time": "2024-04-21T03:33:12.323585Z",
     "start_time": "2024-04-21T03:33:12.321774Z"
    }
   },
   "outputs": [],
   "source": [
    "def string_to_date(date_str):\n",
    "    date = date_str.split(\" - \")\n",
    "    date_format = \"%d/%m/%y\"\n",
    "\n",
    "    if len(date) > 1:\n",
    "        return datetime.strptime(date[1], date_format)\n",
    "    return datetime.strptime(date_str, date_format)"
   ]
  },
  {
   "cell_type": "code",
   "execution_count": 61,
   "metadata": {
    "ExecuteTime": {
     "end_time": "2024-04-21T03:33:12.326943Z",
     "start_time": "2024-04-21T03:33:12.324169Z"
    }
   },
   "outputs": [],
   "source": [
    "def extract_event_data(url):\n",
    "    response = requests.get(url)\n",
    "    if response.status_code != 200:\n",
    "        return f\"Falha ao obter a página: {response.status_code}\"\n",
    "\n",
    "    bs = BeautifulSoup(response.text, \"html.parser\")\n",
    "\n",
    "    name = bs.find(\"div\", class_=\"event_title\").text.strip()\n",
    "    format = bs.find(\"div\", class_=\"meta_arch\").text.strip()\n",
    "    date_str = bs.find(\"div\", class_=\"meta_arch\").find_next(\"div\").text.strip()\n",
    "    date = string_to_date(date_str)\n",
    "\n",
    "    decks = bs.find_all(class_=['hover_tr', 'chosen_tr'])\n",
    "\n",
    "    decks_url = []\n",
    "    for el in decks:\n",
    "        if not el:\n",
    "            continue\n",
    "\n",
    "        anchor = el.find(\"a\")\n",
    "        if not anchor:\n",
    "            continue\n",
    "\n",
    "        link = anchor[\"href\"]\n",
    "        if link:\n",
    "            decks_url.append(f\"{base_url}event{link}\")\n",
    "\n",
    "    return name, format, date, decks_url"
   ]
  },
  {
   "cell_type": "code",
   "execution_count": 62,
   "metadata": {
    "ExecuteTime": {
     "end_time": "2024-04-21T03:33:12.331977Z",
     "start_time": "2024-04-21T03:33:12.327721Z"
    }
   },
   "outputs": [],
   "source": [
    "def extract_deck_data(url):\n",
    "    response = requests.get(url)\n",
    "    if response.status_code != 200:\n",
    "        return f\"Falha ao obter a página: {response.status_code}\"\n",
    "\n",
    "    bs = BeautifulSoup(response.text, \"html.parser\")\n",
    "    info = bs.find(class_=\"chosen_tr\").find_all(\"a\")\n",
    "    decklist = bs.find_all(\"div\", class_=\"deck_line\")\n",
    "\n",
    "    name = info[1].text.strip()\n",
    "    pilot = info[2].text.strip()\n",
    "\n",
    "    md = []\n",
    "    sb = []\n",
    "    for el in decklist:\n",
    "        id = el[\"id\"]\n",
    "        card = el.text.split(maxsplit=1)\n",
    "\n",
    "        card_quantity = card[0].strip()\n",
    "        card_name = card[1].strip()\n",
    "\n",
    "        if id.startswith(\"md\"):\n",
    "            md.extend([card_name] * int(card_quantity))\n",
    "        elif id.startswith(\"sb\"):\n",
    "            sb.extend([card_name] * int(card_quantity))\n",
    "\n",
    "    md = rename_name_sticker_goblin(md)\n",
    "    sb = rename_name_sticker_goblin(sb)\n",
    "\n",
    "    md = remove_snow_covered_lands(md)\n",
    "    sb = remove_snow_covered_lands(sb)\n",
    "\n",
    "    return name, pilot, md, sb"
   ]
  },
  {
   "cell_type": "code",
   "execution_count": 63,
   "metadata": {
    "ExecuteTime": {
     "end_time": "2024-04-21T03:33:12.335191Z",
     "start_time": "2024-04-21T03:33:12.332561Z"
    }
   },
   "outputs": [],
   "source": [
    "def get_event_name_and_location(event):\n",
    "    splitted_event = event.split(\" @ \")\n",
    "    if len(splitted_event) > 1:\n",
    "        return splitted_event[0].strip(), splitted_event[1].strip()\n",
    "\n",
    "    return event.strip(), None"
   ]
  },
  {
   "cell_type": "code",
   "execution_count": 64,
   "metadata": {
    "ExecuteTime": {
     "end_time": "2024-04-21T05:14:28.095706Z",
     "start_time": "2024-04-21T05:14:16.263011Z"
    }
   },
   "outputs": [],
   "source": [
    "events = []\n",
    "\n",
    "max_pages = 1\n",
    "for i in range(1, max_pages + 1):\n",
    "    events.extend(extract_event_links(\n",
    "        f\"{base_url}format?f=PAU&meta=282&cp={i}\"))"
   ]
  },
  {
   "cell_type": "code",
   "execution_count": 65,
   "metadata": {
    "ExecuteTime": {
     "end_time": "2024-04-21T05:14:16.262054Z",
     "start_time": "2024-04-21T04:47:35.683552Z"
    }
   },
   "outputs": [
    {
     "name": "stdout",
     "output_type": "stream",
     "text": [
      "20 eventos adicionados\n"
     ]
    }
   ],
   "source": [
    "for event in events:\n",
    "    e_name_location, e_format, e_date, decks_url = extract_event_data(event)\n",
    "    e_name, e_location = get_event_name_and_location(e_name_location)\n",
    "    \n",
    "    if e_date.month != 4:\n",
    "        continue\n",
    "\n",
    "    participants = []\n",
    "    for deck_url in decks_url:\n",
    "        name, pilot, md, sb = extract_deck_data(deck_url)\n",
    "\n",
    "        pilot_id = insert_or_get_pilot_id(pilot)\n",
    "        deck_id = insert_or_get_deck_id(name, md, sb, e_format)\n",
    "\n",
    "        participants.append({\"pilot\": pilot_id, \"deck\": deck_id})\n",
    "\n",
    "    event_id = insert_or_get_event_id(\n",
    "        e_name, e_location, e_date, e_format, participants)\n",
    "\n",
    "print(f\"{len(events)} eventos adicionados\")"
   ]
  }
 ],
 "metadata": {
  "kernelspec": {
   "display_name": "Python 3",
   "language": "python",
   "name": "python3"
  },
  "language_info": {
   "codemirror_mode": {
    "name": "ipython",
    "version": 3
   },
   "file_extension": ".py",
   "mimetype": "text/x-python",
   "name": "python",
   "nbconvert_exporter": "python",
   "pygments_lexer": "ipython3",
   "version": "3.12.3"
  }
 },
 "nbformat": 4,
 "nbformat_minor": 2
}
