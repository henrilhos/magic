{
 "cells": [
  {
   "cell_type": "code",
   "execution_count": 1,
   "metadata": {},
   "outputs": [],
   "source": [
    "from pymongo import MongoClient\n",
    "from requests import get\n",
    "from json import loads"
   ]
  },
  {
   "cell_type": "code",
   "execution_count": 2,
   "metadata": {},
   "outputs": [],
   "source": [
    "uri = \"mongodb://localhost:27017\"\n",
    "db_name = \"mtg_decks_db\"\n",
    "client = MongoClient(uri)\n",
    "db = client[db_name]"
   ]
  },
  {
   "cell_type": "code",
   "execution_count": 3,
   "metadata": {},
   "outputs": [],
   "source": [
    "def get_card_scryfall_name_and_color(name):\n",
    "    card = loads(\n",
    "        get(f\"https://api.scryfall.com/cards/named?exact={name}\").text)\n",
    "\n",
    "    type = card[\"type_line\"]\n",
    "    name = card[\"name\"]\n",
    "    if \"Land\" in type:\n",
    "        return name, \"L\"\n",
    "\n",
    "    if \"colors\" in card:\n",
    "        colors = card[\"colors\"]\n",
    "    else:\n",
    "        colors = card[\"card_faces\"][0][\"colors\"]\n",
    "\n",
    "    if len(colors) == 0:\n",
    "        return name, \"C\"\n",
    "    elif len(colors) > 1:\n",
    "        return name, \"M\"\n",
    "    else:\n",
    "        return name, colors[0]"
   ]
  },
  {
   "cell_type": "code",
   "execution_count": 4,
   "metadata": {},
   "outputs": [],
   "source": [
    "pool_collection = db[\"pool\"]\n",
    "\n",
    "\n",
    "def add_card_or_update(card):\n",
    "    name = card[\"name\"]\n",
    "    scryfall_name, color = get_card_scryfall_name_and_color(name)\n",
    "\n",
    "    existing_card = pool_collection.find_one({\"name\": name})\n",
    "    if existing_card and existing_card[\"count\"] == card[\"count\"]:\n",
    "        return\n",
    "\n",
    "    if existing_card and existing_card[\"count\"] != card[\"count\"]:\n",
    "        print(f\"Atualizando carta - {name}\")\n",
    "        pool_collection.update_one({\"_id\": existing_card[\"_id\"]}, {\n",
    "                                   \"$set\": {\"count\": card[\"count\"]}})\n",
    "        return\n",
    "\n",
    "    print(f\"Adicionando carta - {name}\")\n",
    "    pool_collection.insert_one(\n",
    "        {\"name\": name, \"count\": card[\"count\"], \"color\": color, \"scryfall_name\": scryfall_name})"
   ]
  },
  {
   "cell_type": "code",
   "execution_count": 5,
   "metadata": {},
   "outputs": [],
   "source": [
    "aggregate_query = [\n",
    "    {\"$project\": {\"allCards\": {\"$concatArrays\": [\"$maindeck\", \"$sideboard\"]}}},\n",
    "    {\"$unwind\": \"$allCards\"},\n",
    "    {\"$group\": {\"_id\": {\"deckId\": \"$_id\", \"name\": \"$allCards\"}, \"count\": {\"$sum\": 1}}},\n",
    "    {\"$group\": {\"_id\": \"$_id.name\", \"count\": {\"$max\": \"$count\"}}},\n",
    "    {\"$sort\": {\"_id\": 1}},\n",
    "    {\"$project\": {\"name\": \"$_id\", \"count\": \"$count\", \"_id\": 0}}\n",
    "]"
   ]
  },
  {
   "cell_type": "code",
   "execution_count": 6,
   "metadata": {},
   "outputs": [
    {
     "name": "stdout",
     "output_type": "stream",
     "text": [
      "Atualizando carta - Snow-Covered Island\n",
      "Atualizando carta - Snow-Covered Swamp\n"
     ]
    }
   ],
   "source": [
    "deck_collection = db[\"decks\"]\n",
    "\n",
    "cards = list(deck_collection.aggregate(aggregate_query))\n",
    "for card in cards:\n",
    "    if card[\"name\"] == \"Unknown Card\":\n",
    "        continue\n",
    "\n",
    "    add_card_or_update(card)"
   ]
  }
 ],
 "metadata": {
  "kernelspec": {
   "display_name": "Python 3",
   "language": "python",
   "name": "python3"
  },
  "language_info": {
   "codemirror_mode": {
    "name": "ipython",
    "version": 3
   },
   "file_extension": ".py",
   "mimetype": "text/x-python",
   "name": "python",
   "nbconvert_exporter": "python",
   "pygments_lexer": "ipython3",
   "version": "3.12.3"
  }
 },
 "nbformat": 4,
 "nbformat_minor": 2
}
