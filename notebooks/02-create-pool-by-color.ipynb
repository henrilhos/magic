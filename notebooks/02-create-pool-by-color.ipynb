{
 "cells": [
  {
   "cell_type": "code",
   "execution_count": 19,
   "metadata": {
    "ExecuteTime": {
     "end_time": "2024-04-21T05:21:18.300708Z",
     "start_time": "2024-04-21T05:21:18.298572Z"
    }
   },
   "outputs": [],
   "source": [
    "from requests import get\n",
    "from json import loads\n",
    "from services.db_service import DbService"
   ]
  },
  {
   "cell_type": "code",
   "execution_count": 20,
   "metadata": {
    "ExecuteTime": {
     "end_time": "2024-04-21T05:21:18.307350Z",
     "start_time": "2024-04-21T05:21:18.304478Z"
    }
   },
   "outputs": [],
   "source": [
    "db_service = DbService()"
   ]
  },
  {
   "cell_type": "code",
   "execution_count": 21,
   "metadata": {
    "ExecuteTime": {
     "end_time": "2024-04-21T05:21:18.311529Z",
     "start_time": "2024-04-21T05:21:18.308703Z"
    }
   },
   "outputs": [],
   "source": [
    "# name, color, colors, color_identity, cmc, released_at, set, banned\n",
    "def get_card_data_from_scryfall(name):\n",
    "    base_url = \"https://api.scryfall.com\"\n",
    "    scryfall_url = f\"{base_url}/cards/search?q=!\\\"{name}\\\" is:firstprint\"\n",
    "    \n",
    "    card = loads(get(scryfall_url).text)[\"data\"][0]\n",
    "\n",
    "    scryfall_name = card[\"name\"]\n",
    "    cmc = card[\"cmc\"]\n",
    "    color_identity = card[\"color_identity\"]\n",
    "    released_at = card[\"released_at\"]\n",
    "    set = card[\"set_name\"]\n",
    "\n",
    "    legality = card[\"legalities\"][\"pauper\"]\n",
    "    if legality == \"not_legal\":\n",
    "        banned = True\n",
    "    else:\n",
    "        banned = False\n",
    "        \n",
    "    if \"colors\" in card:\n",
    "        colors = card[\"colors\"]\n",
    "    else:\n",
    "        colors = card[\"card_faces\"][0][\"colors\"]\n",
    "\n",
    "    type = card[\"type_line\"]\n",
    "    if \"Land\" in type:\n",
    "        color = \"L\"\n",
    "    elif len(colors) == 0:\n",
    "        color = \"C\"\n",
    "    elif len(colors) > 1:\n",
    "        color = \"M\"\n",
    "    else:\n",
    "        color = colors[0]\n",
    "\n",
    "    return scryfall_name, color, colors, color_identity, cmc, released_at, set, banned"
   ]
  },
  {
   "cell_type": "code",
   "execution_count": 22,
   "metadata": {
    "ExecuteTime": {
     "end_time": "2024-04-21T05:21:18.315349Z",
     "start_time": "2024-04-21T05:21:18.312326Z"
    }
   },
   "outputs": [],
   "source": [
    "pool_collection = db_service.pool_collection()\n",
    "\n",
    "\n",
    "def add_card_or_update(card):\n",
    "    name = card[\"name\"]\n",
    "\n",
    "    existing_card = pool_collection.find_one({\"name\": name})\n",
    "    if existing_card and existing_card[\"count\"] == card[\"count\"]:\n",
    "        return\n",
    "\n",
    "    scryfall_name, color, colors, color_identity, cmc, released_at, set, banned = get_card_data_from_scryfall(name)\n",
    "\n",
    "    if existing_card and existing_card[\"count\"] != card[\"count\"]:\n",
    "        pool_collection.update_one({\"_id\": existing_card[\"_id\"]}, {\"$set\": {\"name\": name, \"count\": card[\"count\"], \"color\": color, \"scryfall_name\": scryfall_name, \"cmc\": cmc, \"colors\": colors, \"color_identity\": color_identity, \"released_at\": released_at, \"set\": set, \"banned\": banned}})\n",
    "        return\n",
    "\n",
    "    pool_collection.insert_one(\n",
    "        {\"name\": name, \"count\": card[\"count\"], \"color\": color, \"scryfall_name\": scryfall_name, \"cmc\": cmc, \"colors\": colors, \"color_identity\": color_identity, \"released_at\": released_at, \"set\": set, \"banned\": banned})"
   ]
  },
  {
   "cell_type": "code",
   "execution_count": 23,
   "metadata": {
    "ExecuteTime": {
     "end_time": "2024-04-21T05:21:18.318538Z",
     "start_time": "2024-04-21T05:21:18.316252Z"
    }
   },
   "outputs": [],
   "source": [
    "aggregate_query = [\n",
    "    {\"$match\": {\"banned\": {\"$ne\": True}}},\n",
    "    {\"$project\": {\"all_cards\": {\"$concatArrays\": [\"$maindeck\", \"$sideboard\"]}}},\n",
    "    {\"$unwind\": \"$all_cards\"},\n",
    "    {\"$group\": {\"_id\": {\"deckId\": \"$_id\", \"name\": \"$all_cards\"}, \"count\": {\"$sum\": 1}}},\n",
    "    {\"$group\": {\"_id\": \"$_id.name\", \"count\": {\"$max\": \"$count\"}}},\n",
    "    {\"$sort\": {\"_id\": 1}},\n",
    "    {\"$project\": {\"name\": \"$_id\", \"count\": \"$count\", \"_id\": 0}}\n",
    "]"
   ]
  },
  {
   "cell_type": "code",
   "execution_count": 24,
   "metadata": {
    "ExecuteTime": {
     "end_time": "2024-04-21T05:25:47.954088Z",
     "start_time": "2024-04-21T05:21:18.319162Z"
    }
   },
   "outputs": [],
   "source": [
    "deck_collection = db_service.deck_collection()\n",
    "\n",
    "cards = list(deck_collection.aggregate(aggregate_query))\n",
    "for card in cards:\n",
    "    if card[\"name\"] == \"Unknown Card\":\n",
    "        print(\"OI\")\n",
    "        continue\n",
    "\n",
    "    add_card_or_update(card)"
   ]
  }
 ],
 "metadata": {
  "kernelspec": {
   "display_name": "Python 3",
   "language": "python",
   "name": "python3"
  },
  "language_info": {
   "codemirror_mode": {
    "name": "ipython",
    "version": 3
   },
   "file_extension": ".py",
   "mimetype": "text/x-python",
   "name": "python",
   "nbconvert_exporter": "python",
   "pygments_lexer": "ipython3",
   "version": "3.12.3"
  }
 },
 "nbformat": 4,
 "nbformat_minor": 2
}
