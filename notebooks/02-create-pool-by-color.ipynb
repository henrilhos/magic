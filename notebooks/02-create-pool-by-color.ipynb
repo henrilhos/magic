{
 "cells": [
  {
   "cell_type": "code",
   "execution_count": 31,
   "metadata": {
    "ExecuteTime": {
     "end_time": "2024-04-21T05:21:18.300708Z",
     "start_time": "2024-04-21T05:21:18.298572Z"
    }
   },
   "outputs": [],
   "source": [
    "from requests import get\n",
    "from json import loads\n",
    "from services.db_service import DbService"
   ]
  },
  {
   "cell_type": "code",
   "execution_count": 32,
   "metadata": {
    "ExecuteTime": {
     "end_time": "2024-04-21T05:21:18.307350Z",
     "start_time": "2024-04-21T05:21:18.304478Z"
    }
   },
   "outputs": [],
   "source": [
    "db_service = DbService()"
   ]
  },
  {
   "cell_type": "code",
   "execution_count": 33,
   "metadata": {
    "ExecuteTime": {
     "end_time": "2024-04-21T05:21:18.311529Z",
     "start_time": "2024-04-21T05:21:18.308703Z"
    }
   },
   "outputs": [],
   "source": [
    "\n",
    "\n",
    "def get_card_scryfall_name_and_color(name):\n",
    "    card = loads(\n",
    "        get(f\"https://api.scryfall.com/cards/named?exact={name}\").text)\n",
    "\n",
    "    type = card[\"type_line\"]\n",
    "    name = card[\"name\"]\n",
    "    legality = card[\"legalities\"][\"pauper\"]\n",
    "\n",
    "    if legality == \"not_legal\" or type == \"Stickers\":\n",
    "        return name, \"I\"\n",
    "\n",
    "    if \"Land\" in type:\n",
    "        return name, \"L\"\n",
    "\n",
    "    if \"colors\" in card:\n",
    "        colors = card[\"colors\"]\n",
    "    else:\n",
    "        colors = card[\"card_faces\"][0][\"colors\"]\n",
    "\n",
    "    if len(colors) == 0:\n",
    "        return name, \"C\"\n",
    "    elif len(colors) > 1:\n",
    "        return name, \"M\"\n",
    "    else:\n",
    "        return name, colors[0]"
   ]
  },
  {
   "cell_type": "code",
   "execution_count": 34,
   "metadata": {
    "ExecuteTime": {
     "end_time": "2024-04-21T05:21:18.315349Z",
     "start_time": "2024-04-21T05:21:18.312326Z"
    }
   },
   "outputs": [],
   "source": [
    "pool_collection = db_service.pool_collection()\n",
    "\n",
    "\n",
    "def add_card_or_update(card):\n",
    "    name = card[\"name\"]\n",
    "    scryfall_name, color = get_card_scryfall_name_and_color(name)\n",
    "\n",
    "    if color == \"I\":\n",
    "        return\n",
    "\n",
    "    existing_card = pool_collection.find_one({\"name\": name})\n",
    "    if existing_card and existing_card[\"count\"] == card[\"count\"]:\n",
    "        return\n",
    "\n",
    "    if existing_card and existing_card[\"count\"] != card[\"count\"]:\n",
    "        pool_collection.update_one({\"_id\": existing_card[\"_id\"]}, {\n",
    "                                   \"$set\": {\"count\": card[\"count\"]}})\n",
    "        return\n",
    "\n",
    "    pool_collection.insert_one(\n",
    "        {\"name\": name, \"count\": card[\"count\"], \"color\": color, \"scryfall_name\": scryfall_name})"
   ]
  },
  {
   "cell_type": "code",
   "execution_count": 35,
   "metadata": {
    "ExecuteTime": {
     "end_time": "2024-04-21T05:21:18.318538Z",
     "start_time": "2024-04-21T05:21:18.316252Z"
    }
   },
   "outputs": [],
   "source": [
    "aggregate_query = [\n",
    "    {\"$match\": {\"restricted\": {\"$ne\": True}}},\n",
    "    {\"$project\": {\"allCards\": {\"$concatArrays\": [\"$maindeck\", \"$sideboard\"]}}},\n",
    "    {\"$unwind\": \"$allCards\"},\n",
    "    {\"$group\": {\"_id\": {\"deckId\": \"$_id\", \"name\": \"$allCards\"}, \"count\": {\"$sum\": 1}}},\n",
    "    {\"$group\": {\"_id\": \"$_id.name\", \"count\": {\"$max\": \"$count\"}}},\n",
    "    {\"$sort\": {\"_id\": 1}},\n",
    "    {\"$project\": {\"name\": \"$_id\", \"count\": \"$count\", \"_id\": 0}}\n",
    "]"
   ]
  },
  {
   "cell_type": "code",
   "execution_count": 36,
   "metadata": {
    "ExecuteTime": {
     "end_time": "2024-04-21T05:25:47.954088Z",
     "start_time": "2024-04-21T05:21:18.319162Z"
    }
   },
   "outputs": [],
   "source": [
    "deck_collection = db_service.deck_collection()\n",
    "\n",
    "cards = list(deck_collection.aggregate(aggregate_query))\n",
    "for card in cards:\n",
    "    if card[\"name\"] == \"Unknown Card\":\n",
    "        continue\n",
    "\n",
    "    add_card_or_update(card)"
   ]
  }
 ],
 "metadata": {
  "kernelspec": {
   "display_name": "Python 3",
   "language": "python",
   "name": "python3"
  },
  "language_info": {
   "codemirror_mode": {
    "name": "ipython",
    "version": 3
   },
   "file_extension": ".py",
   "mimetype": "text/x-python",
   "name": "python",
   "nbconvert_exporter": "python",
   "pygments_lexer": "ipython3",
   "version": "3.12.3"
  }
 },
 "nbformat": 4,
 "nbformat_minor": 2
}
