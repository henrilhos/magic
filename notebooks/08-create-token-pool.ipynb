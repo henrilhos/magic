{
 "cells": [
  {
   "cell_type": "code",
   "execution_count": 13,
   "metadata": {},
   "outputs": [],
   "source": [
    "from pymongo import MongoClient\n",
    "from requests import get\n",
    "from json import loads"
   ]
  },
  {
   "cell_type": "code",
   "execution_count": 14,
   "metadata": {},
   "outputs": [],
   "source": [
    "uri = \"mongodb://localhost:27017\"\n",
    "db_name = \"mtg_decks_db\"\n",
    "client = MongoClient(uri)\n",
    "db = client[db_name]"
   ]
  },
  {
   "cell_type": "code",
   "execution_count": 15,
   "metadata": {},
   "outputs": [],
   "source": [
    "def get_and_save_tokens(name):\n",
    "    card = loads(get(f\"https://api.scryfall.com/cards/named?exact={name}\").text)\n",
    "    \n",
    "    if \"all_parts\" not in card:\n",
    "        return\n",
    "    \n",
    "    for part in card[\"all_parts\"]:\n",
    "        if part[\"component\"] != \"token\":\n",
    "            return\n",
    "        \n",
    "        print(part[\"name\"])"
   ]
  },
  {
   "cell_type": "code",
   "execution_count": 16,
   "metadata": {},
   "outputs": [],
   "source": [
    "aggregate_query = [\n",
    "    {\"$project\": {\"allCards\": {\"$concatArrays\": [\"$maindeck\", \"$sideboard\"]}}},\n",
    "    {\"$unwind\": \"$allCards\"},\n",
    "    {\"$group\": {\"_id\": \"$allCards\"}},\n",
    "    {\"$sort\": {\"_id\": 1}},\n",
    "    {\"$project\": {\"name\": \"$_id\", \"_id\": 0}}\n",
    "]"
   ]
  },
  {
   "cell_type": "code",
   "execution_count": 17,
   "metadata": {},
   "outputs": [
    {
     "name": "stdout",
     "output_type": "stream",
     "text": [
      "Squirrel\n",
      "Soldier\n",
      "Bird\n",
      "Eldrazi Scion\n",
      "Blood\n",
      "Warrior\n",
      "Squirrel\n",
      "Treasure\n",
      "Clue\n",
      "Elephant\n",
      "Wicked // Cursed\n",
      "Saproling\n",
      "Food\n",
      "Elephant\n",
      "Food\n",
      "Goblin Wizard\n",
      "Treasure\n",
      "Sliver\n",
      "Pest\n",
      "Treasure\n",
      "Phyrexian Mite\n",
      "Shapeshifter\n",
      "Treasure\n",
      "Goblin\n",
      "Phyrexian Golem\n",
      "Goblin\n",
      "Bear\n",
      "Bird Illusion\n",
      "Eldrazi Spawn\n",
      "Squirrel\n",
      "Saproling\n",
      "Wicked // Cursed\n",
      "Clue\n",
      "Pegasus\n",
      "Pest\n",
      "Bird\n",
      "Treasure\n",
      "Sacred Cat\n",
      "Saproling\n",
      "Saproling\n",
      "Food\n",
      "Fractal\n",
      "Treasure\n",
      "Food\n",
      "Bird\n",
      "Saproling\n",
      "Treasure\n",
      "Clue\n",
      "Gnome\n",
      "Blood\n",
      "Blood\n"
     ]
    }
   ],
   "source": [
    "deck_collection = db[\"decks\"]\n",
    "\n",
    "cards = list(deck_collection.aggregate(aggregate_query))\n",
    "for card in cards:\n",
    "    if card[\"name\"] == \"Unknown Card\":\n",
    "        continue\n",
    "\n",
    "    get_and_save_tokens(card[\"name\"])"
   ]
  }
 ],
 "metadata": {
  "kernelspec": {
   "display_name": "Python 3",
   "language": "python",
   "name": "python3"
  },
  "language_info": {
   "codemirror_mode": {
    "name": "ipython",
    "version": 3
   },
   "file_extension": ".py",
   "mimetype": "text/x-python",
   "name": "python",
   "nbconvert_exporter": "python",
   "pygments_lexer": "ipython3",
   "version": "3.12.3"
  }
 },
 "nbformat": 4,
 "nbformat_minor": 2
}
