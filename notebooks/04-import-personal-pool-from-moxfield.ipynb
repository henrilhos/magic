{
 "cells": [
  {
   "cell_type": "code",
   "execution_count": 44,
   "metadata": {},
   "outputs": [],
   "source": [
    "import pandas as pd\n",
    "from services.db_service import DbService"
   ]
  },
  {
   "cell_type": "code",
   "execution_count": 45,
   "metadata": {},
   "outputs": [],
   "source": [
    "personal_pool_collection = DbService().personal_pool_collection()\n",
    "global_pool = DbService().pool_collection()"
   ]
  },
  {
   "cell_type": "code",
   "metadata": {},
   "source": [
    "df = pd.read_csv(\"../raw-data/moxfield_wishlist.csv\")\n",
    "df.head()"
   ],
   "outputs": [],
   "execution_count": null
  },
  {
   "cell_type": "code",
   "metadata": {},
   "source": [
    "df = df[[\"Count\", \"Name\"]]\n",
    "df = df.rename(columns={\"Count\": \"count\", \"Name\": \"name\"})\n",
    "\n",
    "df.head()"
   ],
   "outputs": [],
   "execution_count": null
  },
  {
   "cell_type": "code",
   "metadata": {},
   "source": [
    "selected_columns = df[[\"count\", \"name\"]]\n",
    "cards = selected_columns.to_dict(orient=\"records\")\n",
    "cards"
   ],
   "outputs": [],
   "execution_count": null
  },
  {
   "cell_type": "code",
   "execution_count": 49,
   "metadata": {},
   "outputs": [],
   "source": [
    "import_type = \"sum\"  # sum or replace\n",
    "\n",
    "\n",
    "def add_or_update_card(card):\n",
    "    card_from_pool = global_pool.find_one({\"scryfall_name\": card[\"name\"]})\n",
    "    name = card_from_pool[\"name\"] if card_from_pool else card[\"name\"]\n",
    "\n",
    "    existing_card = personal_pool_collection.find_one({\"scryfall_name\": card[\"name\"]})\n",
    "    if not existing_card:\n",
    "        personal_pool_collection.insert_one(\n",
    "            {\"name\": name, \"scryfall_name\": card[\"name\"], \"count\": card[\"count\"]})\n",
    "        return\n",
    "\n",
    "    if import_type == \"sum\":\n",
    "        card[\"count\"] += existing_card[\"count\"]\n",
    "\n",
    "    personal_pool_collection.update_one({\"_id\": existing_card[\"_id\"]}, {\n",
    "                          \"$set\": {\"count\": card[\"count\"]}})"
   ]
  },
  {
   "cell_type": "code",
   "execution_count": 50,
   "metadata": {},
   "outputs": [],
   "source": [
    "for card in cards:\n",
    "    add_or_update_card(card)"
   ]
  }
 ],
 "metadata": {
  "kernelspec": {
   "display_name": "Python 3",
   "language": "python",
   "name": "python3"
  },
  "language_info": {
   "codemirror_mode": {
    "name": "ipython",
    "version": 3
   },
   "file_extension": ".py",
   "mimetype": "text/x-python",
   "name": "python",
   "nbconvert_exporter": "python",
   "pygments_lexer": "ipython3",
   "version": "3.12.3"
  }
 },
 "nbformat": 4,
 "nbformat_minor": 2
}
