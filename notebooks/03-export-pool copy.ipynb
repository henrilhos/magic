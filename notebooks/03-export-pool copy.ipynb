{
 "cells": [
  {
   "cell_type": "code",
   "execution_count": 1,
   "metadata": {
    "ExecuteTime": {
     "end_time": "2024-04-21T05:28:27.216453Z",
     "start_time": "2024-04-21T05:28:27.212839Z"
    }
   },
   "outputs": [],
   "source": [
    "from pymongo import ASCENDING\n",
    "from services.db_service import DbService\n",
    "\n",
    "pool_collection = DbService().pool_collection()\n",
    "deck_collection = DbService().deck_collection()"
   ]
  },
  {
   "cell_type": "code",
   "execution_count": 2,
   "metadata": {
    "ExecuteTime": {
     "end_time": "2024-04-21T05:28:27.219530Z",
     "start_time": "2024-04-21T05:28:27.217525Z"
    }
   },
   "outputs": [],
   "source": [
    "colors = {\n",
    "    \"W\": \"01-white.txt\",\n",
    "    \"U\": \"02-blue.txt\",\n",
    "    \"B\": \"03-black.txt\",\n",
    "    \"R\": \"04-red.txt\",\n",
    "    \"G\": \"05-green.txt\",\n",
    "    \"M\": \"06-multicolored.txt\",\n",
    "    \"C\": \"07-colorless.txt\",\n",
    "    \"L\": \"08-lands.txt\",\n",
    "}"
   ]
  },
  {
   "cell_type": "code",
   "execution_count": 3,
   "metadata": {},
   "outputs": [],
   "source": [
    "def get_pipeline(color):\n",
    "    return [\n",
    "    { \"$match\": { \"banned\": { \"$ne\": True } } },\n",
    "    { \"$project\": { \"all_cards\": { \"$concatArrays\": [\"$maindeck\", \"$sideboard\"] } } },\n",
    "    { \"$unwind\": \"$all_cards\" },\n",
    "    { \"$group\": { \"_id\": { \"_id\": \"$_id\", \"name\": \"$all_cards\" }, \"count\": { \"$sum\": 1 } } },\n",
    "    { \"$project\": { \"_id\": \"$_id._id\", \"name\": \"$_id.name\", \"count\": 1 } },\n",
    "    { \"$sort\": { \"_id\": 1 } },\n",
    "    { \"$group\": { \"_id\": \"$name\", \"count\": { \"$max\": \"$count\" }, \"total_decks\": { \"$sum\": 1 } } },\n",
    "    { \"$match\": { \"total_decks\": { \"$gte\": 25 } } },\n",
    "    { \"$sort\": { \"_id\": 1 } },\n",
    "    { \"$lookup\": { \"from\": \"pool\", \"localField\": \"_id\", \"foreignField\": \"name\", \"as\": \"pool\" } },\n",
    "    { \"$unwind\": \"$pool\" },\n",
    "    { \"$project\": { \"_id\": \"$pool._id\", \"color\": \"$pool.color\", \"name\": \"$pool.name\", \"scryfall_name\": \"$pool.scryfall_name\", \"count\": \"$pool.count\", \"total_decks\": 1 } },\n",
    "    { \"$match\": { \"color\": color } },\n",
    "    { \"$sort\": { \"name\": 1 } }\n",
    "]"
   ]
  },
  {
   "cell_type": "code",
   "execution_count": 4,
   "metadata": {
    "ExecuteTime": {
     "end_time": "2024-04-21T05:28:57.300554Z",
     "start_time": "2024-04-21T05:28:57.285941Z"
    }
   },
   "outputs": [],
   "source": [
    "for color, file in colors.items():    \n",
    "    cards = list(deck_collection.aggregate(get_pipeline(color)))\n",
    "    with open(f\"../pool/{file}\", \"w\") as f:\n",
    "        for card in cards:\n",
    "            f.write(f\"{card['count']} {card['scryfall_name']}\\n\")"
   ]
  }
 ],
 "metadata": {
  "kernelspec": {
   "display_name": "Python 3",
   "language": "python",
   "name": "python3"
  },
  "language_info": {
   "codemirror_mode": {
    "name": "ipython",
    "version": 3
   },
   "file_extension": ".py",
   "mimetype": "text/x-python",
   "name": "python",
   "nbconvert_exporter": "python",
   "pygments_lexer": "ipython3",
   "version": "3.12.3"
  }
 },
 "nbformat": 4,
 "nbformat_minor": 2
}
