{
 "cells": [
  {
   "cell_type": "code",
   "id": "initial_id",
   "metadata": {
    "collapsed": true,
    "ExecuteTime": {
     "end_time": "2024-05-03T01:35:23.797042Z",
     "start_time": "2024-05-03T01:35:23.794941Z"
    }
   },
   "source": "# Find all cards that you have more than a set\n",
   "outputs": [],
   "execution_count": 2
  },
  {
   "metadata": {},
   "cell_type": "markdown",
   "source": "",
   "id": "a38d373c81b4b5eb"
  },
  {
   "metadata": {
    "ExecuteTime": {
     "end_time": "2024-05-03T01:35:23.897350Z",
     "start_time": "2024-05-03T01:35:23.797831Z"
    }
   },
   "cell_type": "code",
   "source": "from services.db_service import DbService",
   "id": "e24b6faacce42706",
   "outputs": [],
   "execution_count": 3
  },
  {
   "metadata": {
    "ExecuteTime": {
     "end_time": "2024-05-03T01:35:23.902510Z",
     "start_time": "2024-05-03T01:35:23.898223Z"
    }
   },
   "cell_type": "code",
   "source": [
    "db_service = DbService()\n",
    "personal_pool_collection = db_service.personal_pool_collection()"
   ],
   "id": "4aeb9f8f2be76bc8",
   "outputs": [],
   "execution_count": 4
  },
  {
   "metadata": {
    "ExecuteTime": {
     "end_time": "2024-05-03T01:46:47.913416Z",
     "start_time": "2024-05-03T01:46:47.910963Z"
    }
   },
   "cell_type": "code",
   "source": [
    "more_than_4_copies_query = {'count': {\"$gt\": 4}}\n",
    "\n",
    "projection = {'name': 1, 'count': 1}\n",
    "\n",
    "pipeline = [\n",
    "    {\"$match\": more_than_4_copies_query},\n",
    "    {\"$project\": projection},\n",
    "    {\"$sort\": {\"count\": -1}}\n",
    "]"
   ],
   "id": "8893a47804577ea2",
   "outputs": [],
   "execution_count": 25
  },
  {
   "metadata": {},
   "cell_type": "code",
   "source": [
    "cards = personal_pool_collection.aggregate(pipeline)\n",
    "\n",
    "for card in cards:\n",
    "    print(card['count'], '|',  card['name'])"
   ],
   "id": "60d5f106365fc986",
   "outputs": [],
   "execution_count": null
  },
  {
   "metadata": {},
   "cell_type": "code",
   "source": "",
   "id": "656f9706c47cec2",
   "outputs": [],
   "execution_count": null
  }
 ],
 "metadata": {
  "kernelspec": {
   "display_name": "Python 3",
   "language": "python",
   "name": "python3"
  },
  "language_info": {
   "codemirror_mode": {
    "name": "ipython",
    "version": 2
   },
   "file_extension": ".py",
   "mimetype": "text/x-python",
   "name": "python",
   "nbconvert_exporter": "python",
   "pygments_lexer": "ipython2",
   "version": "2.7.6"
  }
 },
 "nbformat": 4,
 "nbformat_minor": 5
}
