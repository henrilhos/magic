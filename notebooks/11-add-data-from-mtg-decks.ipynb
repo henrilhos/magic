{
 "cells": [
  {
   "cell_type": "markdown",
   "metadata": {},
   "source": [
    "# Add data from MTG Decks"
   ]
  },
  {
   "cell_type": "code",
   "execution_count": 71,
   "metadata": {},
   "outputs": [],
   "source": [
    "import requests\n",
    "\n",
    "from bs4 import BeautifulSoup\n",
    "from datetime import datetime\n",
    "from services.db_service import DbService\n",
    "from services.utils import rename_name_sticker_goblin, remove_snow_covered_lands"
   ]
  },
  {
   "cell_type": "code",
   "execution_count": 72,
   "metadata": {},
   "outputs": [],
   "source": [
    "db_service = DbService()\n",
    "pilots_collection = db_service.pilots_collection()\n",
    "decks_collection = db_service.deck_collection()\n",
    "events_collection = db_service.events_collection()"
   ]
  },
  {
   "cell_type": "code",
   "execution_count": 73,
   "metadata": {},
   "outputs": [],
   "source": [
    "base_url = \"https://mtgdecks.net\"\n",
    "headers = {\"User-Agent\": \"MTG Scraper\"}"
   ]
  },
  {
   "cell_type": "code",
   "execution_count": 74,
   "metadata": {},
   "outputs": [],
   "source": [
    "def get_tournaments_url(url):\n",
    "    response = requests.get(url, headers=headers)\n",
    "    if response.status_code != 200:\n",
    "        return f\"Falha ao obter a página: {response.status_code} ({response.reason})\"\n",
    "\n",
    "    bs = BeautifulSoup(response.text, \"html.parser\")\n",
    "\n",
    "    tables = bs.find_all(\"table\")\n",
    "    if not tables[0]:\n",
    "        return \"Tabela não encontrada\"\n",
    "\n",
    "    tournaments = []\n",
    "    for row in tables[0].find_all(\"tr\")[1:]:\n",
    "        tournament_url = row.find(\"a\")[\"href\"]\n",
    "        if tournament_url:\n",
    "            tournaments.append(base_url + tournament_url)\n",
    "\n",
    "    return tournaments"
   ]
  },
  {
   "cell_type": "code",
   "execution_count": 75,
   "metadata": {},
   "outputs": [],
   "source": [
    "def text_to_date(date_str):\n",
    "    return datetime.strptime(date_str, \"%Y-%m-%d\")"
   ]
  },
  {
   "cell_type": "code",
   "execution_count": 76,
   "metadata": {},
   "outputs": [],
   "source": [
    "def get_tournament_name_and_location(tournament):\n",
    "    splitted_tournament = tournament.split(\"@\")\n",
    "    if len(splitted_tournament) > 1:\n",
    "        return splitted_tournament[0].strip(), splitted_tournament[1].strip()\n",
    "    return tournament.strip(), None"
   ]
  },
  {
   "cell_type": "code",
   "execution_count": 77,
   "metadata": {},
   "outputs": [],
   "source": [
    "def get_tournament_data(url):\n",
    "    response = requests.get(url, headers=headers)\n",
    "    if response.status_code != 200:\n",
    "        return f\"Falha ao obter a página: {response.status_code} ({response.reason})\"\n",
    "\n",
    "    bs = BeautifulSoup(response.text, \"html.parser\")\n",
    "\n",
    "    name, location = get_tournament_name_and_location(bs.find(\"h1\").text)\n",
    "\n",
    "    details = bs.find(\"div\", class_=\"card-item\")\n",
    "    format = details.find(\"a\").text.strip()\n",
    "    date_str = details.find(\n",
    "        \"div\", class_=[\"small\", \"text-uppercase\"]).text.split(\"|\\n\")[1].strip()\n",
    "    date = text_to_date(date_str)\n",
    "\n",
    "    # Refatorar em outra função\n",
    "    tables = bs.find_all(\"table\")\n",
    "    if not tables[0]:\n",
    "        return \"Tabela não encontrada\"\n",
    "\n",
    "    decklists = []\n",
    "    for row in tables[0].find_all(\"tr\")[1:]:\n",
    "        decklist_url = row.find(\"a\")[\"href\"]\n",
    "        if decklist_url:\n",
    "            decklists.append(base_url + decklist_url)\n",
    "\n",
    "    return {\"name\": name, \"location\": location, \"format\": format, \"date\": date, \"decklists\": decklists}"
   ]
  },
  {
   "cell_type": "code",
   "execution_count": 78,
   "metadata": {},
   "outputs": [],
   "source": [
    "def get_decklist_as_list(decklist):\n",
    "    list = []\n",
    "    for card in decklist:\n",
    "        [quantity, name] = card.split(maxsplit=1)\n",
    "        list.extend([name.strip()] * int(quantity))\n",
    "\n",
    "    list = rename_name_sticker_goblin(list)\n",
    "    list = remove_snow_covered_lands(list)\n",
    "    list.sort()\n",
    "\n",
    "    return list"
   ]
  },
  {
   "cell_type": "code",
   "execution_count": 79,
   "metadata": {},
   "outputs": [],
   "source": [
    "def get_player_data(url):\n",
    "    response = requests.get(url, headers=headers)\n",
    "    if response.status_code != 200:\n",
    "        return f\"Falha ao obter a página: {response.status_code} ({response.reason})\"\n",
    "\n",
    "    bs = BeautifulSoup(response.text, \"html.parser\")\n",
    "    \n",
    "    if not bs.find(\"div\", id=\"deck-tags-area\"):\n",
    "        return \"Deck inválido\"\n",
    "\n",
    "    details = bs.find(\"div\", id=\"deck-tags-area\").find_all(\"a\")\n",
    "    player = details[2].text.lower().strip()\n",
    "    archetype = details[1].text.strip()\n",
    "\n",
    "    decklist = bs.find(\"textarea\", id=\"arena_deck\").text.split(\"\\n\\n\")\n",
    "    \n",
    "    maindeck = get_decklist_as_list(decklist[0].split(\"\\n\"))\n",
    "    if len(decklist) > 1:\n",
    "        sideboard = get_decklist_as_list(decklist[1].split(\"\\n\"))\n",
    "    else:\n",
    "        sideboard = []\n",
    "\n",
    "    return {\"player\": player, \"archetype\": archetype, \"maindeck\": maindeck, \"sideboard\": sideboard}"
   ]
  },
  {
   "cell_type": "code",
   "execution_count": 80,
   "metadata": {},
   "outputs": [],
   "source": [
    "def find_or_create_player(player_name):\n",
    "    player = pilots_collection.find_one({\"name\": player_name})\n",
    "    if player:\n",
    "        return player[\"_id\"]\n",
    "    return pilots_collection.insert_one({\"name\": player_name, \"created_at\": datetime.now(), \"updated_at\": datetime.now()}).inserted_id"
   ]
  },
  {
   "cell_type": "code",
   "execution_count": 81,
   "metadata": {},
   "outputs": [],
   "source": [
    "def find_or_create_decklist(archetype, maindeck, sideboard, format):\n",
    "    decklist = decks_collection.find_one(\n",
    "        {\"maindeck\": maindeck, \"sideboard\": sideboard, \"format\": format})\n",
    "    if decklist:\n",
    "        return decklist[\"_id\"]\n",
    "\n",
    "    return decks_collection.insert_one({\"name\": archetype, \"format\": format, \"maindeck\": maindeck, \"sideboard\": sideboard, \"created_at\": datetime.now(), \"updated_at\": datetime.now()}).inserted_id"
   ]
  },
  {
   "cell_type": "code",
   "execution_count": 82,
   "metadata": {},
   "outputs": [],
   "source": [
    "def create_or_update_tournament(name, location, format, date, players):\n",
    "    tournament = events_collection.find_one(\n",
    "        {\"name\": name, \"date\": date, \"format\": format})\n",
    "\n",
    "    if tournament:\n",
    "        events_collection.update_one({\"_id\": tournament[\"_id\"]}, {\"$set\": {\n",
    "                                     \"location\": location, \"players\": players, \"updated_at\": datetime.now()}})\n",
    "        return\n",
    "\n",
    "    events_collection.insert_one({\"name\": name, \"location\": location, \"format\": format, \"date\": date,\n",
    "                                 \"players\": players, \"created_at\": datetime.now(), \"updated_at\": datetime.now()})"
   ]
  },
  {
   "cell_type": "code",
   "execution_count": 83,
   "metadata": {},
   "outputs": [],
   "source": [
    "tournaments = []\n",
    "\n",
    "max_pages = 1\n",
    "for page in range(1, max_pages + 1):\n",
    "    urls = get_tournaments_url(f\"{base_url}/Pauper/tournaments/page:{page}\")\n",
    "    tournaments.extend(urls)"
   ]
  },
  {
   "cell_type": "code",
   "execution_count": 84,
   "metadata": {},
   "outputs": [
    {
     "name": "stdout",
     "output_type": "stream",
     "text": [
      "20 torneios adicionados\n"
     ]
    }
   ],
   "source": [
    "for tournament in tournaments:\n",
    "    td = get_tournament_data(tournament)\n",
    "    \n",
    "    if td[\"date\"].month == 12:\n",
    "        continue\n",
    "\n",
    "    players = []\n",
    "    for decklist_url in td[\"decklists\"]:\n",
    "        try:\n",
    "            pd = get_player_data(decklist_url)\n",
    "\n",
    "            player_id = find_or_create_player(pd[\"player\"])\n",
    "            decklist_id = find_or_create_decklist(\n",
    "                pd[\"archetype\"], pd[\"maindeck\"], pd[\"sideboard\"], td[\"format\"])\n",
    "\n",
    "            players.append({\"player\": player_id, \"decklist\": decklist_id})\n",
    "        except:\n",
    "            continue\n",
    "\n",
    "    create_or_update_tournament(\n",
    "        td[\"name\"], td[\"location\"], td[\"format\"], td[\"date\"], players)\n",
    "\n",
    "print(f\"{len(tournaments)} torneios adicionados\")"
   ]
  }
 ],
 "metadata": {
  "kernelspec": {
   "display_name": "Python 3",
   "language": "python",
   "name": "python3"
  },
  "language_info": {
   "codemirror_mode": {
    "name": "ipython",
    "version": 3
   },
   "file_extension": ".py",
   "mimetype": "text/x-python",
   "name": "python",
   "nbconvert_exporter": "python",
   "pygments_lexer": "ipython3",
   "version": "3.12.3"
  }
 },
 "nbformat": 4,
 "nbformat_minor": 2
}
