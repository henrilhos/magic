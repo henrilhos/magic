{
 "cells": [
  {
   "cell_type": "code",
   "execution_count": 1,
   "metadata": {},
   "outputs": [],
   "source": [
    "md = [\"Brinebarrow Intruder\", \"Brinebarrow Intruder\", \"Brinebarrow Intruder\", \"Brinebarrow Intruder\", \"Counterspell\", \"Counterspell\", \"Counterspell\", \"Counterspell\", \"Faerie Miscreant\", \"Faerie Miscreant\", \"Faerie Miscreant\", \"Faerie Miscreant\", \"Faerie Seer\", \"Faerie Seer\", \"Faerie Seer\", \"Faerie Seer\", \"Moon-Circuit Hacker\", \"Moon-Circuit Hacker\", \"Moon-Circuit Hacker\", \"Moon-Circuit Hacker\", \"Mutagenic Growth\", \"Mutagenic Growth\", \"Ninja of the Deep Hours\", \"Ninja of the Deep Hours\", \"Ninja of the Deep Hours\", \"Ninja of the Deep Hours\", \"Of One Mind\", \"Of One Mind\", \"Of One Mind\", \"Of One Mind\", \"Saiba Cryptomancer\", \"Smoke Shroud\", \"Snap\", \"Snap\", \"Snap\", \"Snap\", \"Snow-Covered Island\", \"Snow-Covered Island\", \"Snow-Covered Island\", \"Snow-Covered Island\", \"Snow-Covered Island\", \"Snow-Covered Island\", \"Snow-Covered Island\", \"Snow-Covered Island\", \"Snow-Covered Island\", \"Snow-Covered Island\", \"Snow-Covered Island\", \"Snow-Covered Island\", \"Snow-Covered Island\", \"Snow-Covered Island\", \"Snow-Covered Island\", \"Snow-Covered Island\", \"Snow-Covered Island\", \"Snow-Covered Island\", \"Spell Pierce\", \"Spell Pierce\", \"Spellstutter Sprite\", \"Spellstutter Sprite\", \"Spellstutter Sprite\", \"Spellstutter Sprite\"]"
   ]
  },
  {
   "cell_type": "code",
   "execution_count": 5,
   "metadata": {},
   "outputs": [
    {
     "name": "stdout",
     "output_type": "stream",
     "text": [
      "3 Forest (#205)\n",
      "4 Forest (#204)\n",
      "20 Forest (#381)\n",
      "25 Forest (#271)\n",
      "7 Forest (#1515)\n",
      "25 Island (#268)\n",
      "20 Island (#375)\n",
      "6 Island (#198)\n",
      "5 Island (#199)\n",
      "5 Mountain (#202)\n",
      "20 Mountain (#379)\n",
      "25 Mountain (#270)\n",
      "5 Mountain (#1514)\n",
      "3 Mountain (#203)\n",
      "20 Plains (#373)\n",
      "10 Plains (#1513)\n",
      "25 Plains (#267)\n",
      "2 Plains (#197)\n",
      "3 Plains (#196)\n",
      "15 Snow-Covered Island (#251)\n",
      "15 Snow-Covered Mountain (#253)\n",
      "25 Swamp (#269)\n",
      "20 Swamp (#377)\n",
      "1 Swamp (#201)\n",
      "1 Swamp (#200)\n"
     ]
    }
   ],
   "source": [
    "import pandas as pd\n",
    "\n",
    "df = pd.read_csv(\"../raw-data/basic-lands.csv\")\n",
    "df = df.rename(columns={\"Count\": \"count\", \"Name\": \"name\", \"Collector Number\": \"number\"})\n",
    "sel_cols = df[[\"count\", \"name\", \"number\"]]\n",
    "cards = sel_cols.to_dict(orient=\"records\")\n",
    "\n",
    "for card in cards:\n",
    "    print(f\"{card['count']} {card['name']} (#{card['number']})\")"
   ]
  },
  {
   "cell_type": "code",
   "execution_count": 3,
   "metadata": {},
   "outputs": [
    {
     "name": "stdout",
     "output_type": "stream",
     "text": [
      "Removendo Snow-Lands\n"
     ]
    },
    {
     "data": {
      "text/plain": [
       "['Brinebarrow Intruder',\n",
       " 'Brinebarrow Intruder',\n",
       " 'Brinebarrow Intruder',\n",
       " 'Brinebarrow Intruder',\n",
       " 'Counterspell',\n",
       " 'Counterspell',\n",
       " 'Counterspell',\n",
       " 'Counterspell',\n",
       " 'Faerie Miscreant',\n",
       " 'Faerie Miscreant',\n",
       " 'Faerie Miscreant',\n",
       " 'Faerie Miscreant',\n",
       " 'Faerie Seer',\n",
       " 'Faerie Seer',\n",
       " 'Faerie Seer',\n",
       " 'Faerie Seer',\n",
       " 'Moon-Circuit Hacker',\n",
       " 'Moon-Circuit Hacker',\n",
       " 'Moon-Circuit Hacker',\n",
       " 'Moon-Circuit Hacker',\n",
       " 'Mutagenic Growth',\n",
       " 'Mutagenic Growth',\n",
       " 'Ninja of the Deep Hours',\n",
       " 'Ninja of the Deep Hours',\n",
       " 'Ninja of the Deep Hours',\n",
       " 'Ninja of the Deep Hours',\n",
       " 'Of One Mind',\n",
       " 'Of One Mind',\n",
       " 'Of One Mind',\n",
       " 'Of One Mind',\n",
       " 'Saiba Cryptomancer',\n",
       " 'Smoke Shroud',\n",
       " 'Snap',\n",
       " 'Snap',\n",
       " 'Snap',\n",
       " 'Snap',\n",
       " 'Island',\n",
       " 'Island',\n",
       " 'Island',\n",
       " 'Island',\n",
       " 'Island',\n",
       " 'Island',\n",
       " 'Island',\n",
       " 'Island',\n",
       " 'Island',\n",
       " 'Island',\n",
       " 'Island',\n",
       " 'Island',\n",
       " 'Island',\n",
       " 'Island',\n",
       " 'Island',\n",
       " 'Island',\n",
       " 'Island',\n",
       " 'Island',\n",
       " 'Spell Pierce',\n",
       " 'Spell Pierce',\n",
       " 'Spellstutter Sprite',\n",
       " 'Spellstutter Sprite',\n",
       " 'Spellstutter Sprite',\n",
       " 'Spellstutter Sprite']"
      ]
     },
     "execution_count": 3,
     "metadata": {},
     "output_type": "execute_result"
    }
   ],
   "source": [
    "def remove_unused_snow_covered_lands(list):\n",
    "    snow_cards = [\n",
    "        \"Arctic Foxes\", \"Balduvian Conjurer\", \"Barbarian Guides\", \"Drift of the Dead\", \"Frost Bite\",\n",
    "        \"Icequake\", \"Into the North\", \"Kjeldoran Guard\", \"Priest of the Haunted Edge\", \"Rimewind Taskmage\",\n",
    "        \"Ronom Serpent\", \"Sculptor of Winter\", \"Skred\", \"Snow Devil\", \"Thermokarst\",\n",
    "        \"Whiteout\", \"Woolly Mammoths\", \"Zombie Musher\"\n",
    "    ]\n",
    "    snow_lands = [\"Snow-Covered Plains\", \"Snow-Covered Island\",\n",
    "                  \"Snow-Covered Black\", \"Snow-Covered Mountain\", \"Snow-Covered Forest\"]\n",
    "\n",
    "    if not any(item in list for item in snow_cards) and any(item in list for item in snow_lands):\n",
    "        print(\"Removendo Snow-Lands\")\n",
    "        return [card.replace(\"Snow-Covered \", \"\", 1) for card in list]\n",
    "    return list\n",
    "\n",
    "remove_unused_snow_covered_lands(md)"
   ]
  }
 ],
 "metadata": {
  "kernelspec": {
   "display_name": "Python 3",
   "language": "python",
   "name": "python3"
  },
  "language_info": {
   "codemirror_mode": {
    "name": "ipython",
    "version": 3
   },
   "file_extension": ".py",
   "mimetype": "text/x-python",
   "name": "python",
   "nbconvert_exporter": "python",
   "pygments_lexer": "ipython3",
   "version": "3.9.6"
  }
 },
 "nbformat": 4,
 "nbformat_minor": 2
}
