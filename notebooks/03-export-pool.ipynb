{
 "cells": [
  {
   "cell_type": "code",
   "execution_count": 1,
   "metadata": {},
   "outputs": [],
   "source": [
    "from pymongo import MongoClient, ASCENDING"
   ]
  },
  {
   "cell_type": "code",
   "execution_count": 2,
   "metadata": {},
   "outputs": [],
   "source": [
    "uri = \"mongodb://localhost:27017\"\n",
    "db_name = \"mtg_decks_db\"\n",
    "client = MongoClient(uri)\n",
    "db = client[db_name]\n",
    "\n",
    "pool_collection = db[\"pool\"]"
   ]
  },
  {
   "cell_type": "code",
   "execution_count": 3,
   "metadata": {},
   "outputs": [],
   "source": [
    "colors = {\n",
    "    \"W\": \"01-white.txt\",\n",
    "    \"U\": \"02-blue.txt\",\n",
    "    \"B\": \"03-black.txt\",\n",
    "    \"R\": \"04-red.txt\",\n",
    "    \"G\": \"05-green.txt\",\n",
    "    \"M\": \"06-multicolored.txt\",\n",
    "    \"C\": \"07-colorless.txt\",\n",
    "    \"L\": \"08-lands.txt\",\n",
    "}"
   ]
  },
  {
   "cell_type": "code",
   "execution_count": 4,
   "metadata": {},
   "outputs": [],
   "source": [
    "for color, file in colors.items():\n",
    "    cards = list(pool_collection.find(\n",
    "        {\"color\": color}).sort(\"name\", ASCENDING))\n",
    "    with open(f\"../pool/{file}\", \"w\") as f:\n",
    "        for card in cards:\n",
    "            f.write(f\"{card[\"count\"]} {card[\"scryfall_name\"]}\\n\")"
   ]
  }
 ],
 "metadata": {
  "kernelspec": {
   "display_name": "Python 3",
   "language": "python",
   "name": "python3"
  },
  "language_info": {
   "codemirror_mode": {
    "name": "ipython",
    "version": 3
   },
   "file_extension": ".py",
   "mimetype": "text/x-python",
   "name": "python",
   "nbconvert_exporter": "python",
   "pygments_lexer": "ipython3",
   "version": "3.12.3"
  }
 },
 "nbformat": 4,
 "nbformat_minor": 2
}
