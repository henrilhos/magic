{
 "cells": [
  {
   "cell_type": "code",
   "execution_count": 4,
   "metadata": {
    "ExecuteTime": {
     "end_time": "2024-04-21T05:28:27.216453Z",
     "start_time": "2024-04-21T05:28:27.212839Z"
    }
   },
   "outputs": [],
   "source": [
    "from pymongo import ASCENDING\n",
    "from services.db_service import DbService\n",
    "\n",
    "pool_collection = DbService().pool_collection()"
   ]
  },
  {
   "cell_type": "code",
   "execution_count": 5,
   "metadata": {
    "ExecuteTime": {
     "end_time": "2024-04-21T05:28:27.219530Z",
     "start_time": "2024-04-21T05:28:27.217525Z"
    }
   },
   "outputs": [],
   "source": [
    "colors = {\n",
    "    \"W\": \"01-white.txt\",\n",
    "    \"U\": \"02-blue.txt\",\n",
    "    \"B\": \"03-black.txt\",\n",
    "    \"R\": \"04-red.txt\",\n",
    "    \"G\": \"05-green.txt\",\n",
    "    \"M\": \"06-multicolored.txt\",\n",
    "    \"C\": \"07-colorless.txt\",\n",
    "    \"L\": \"08-lands.txt\",\n",
    "}"
   ]
  },
  {
   "cell_type": "code",
   "execution_count": 6,
   "metadata": {
    "ExecuteTime": {
     "end_time": "2024-04-21T05:28:57.300554Z",
     "start_time": "2024-04-21T05:28:57.285941Z"
    }
   },
   "outputs": [],
   "source": [
    "for color, file in colors.items():\n",
    "    cards = list(pool_collection.find(\n",
    "        {\"color\": color}).sort(\"name\", ASCENDING))\n",
    "    with open(f\"../pool/{file}\", \"w\") as f:\n",
    "        for card in cards:\n",
    "            f.write(f\"{card['count']} {card['scryfall_name']}\\n\")"
   ]
  }
 ],
 "metadata": {
  "kernelspec": {
   "display_name": "Python 3",
   "language": "python",
   "name": "python3"
  },
  "language_info": {
   "codemirror_mode": {
    "name": "ipython",
    "version": 3
   },
   "file_extension": ".py",
   "mimetype": "text/x-python",
   "name": "python",
   "nbconvert_exporter": "python",
   "pygments_lexer": "ipython3",
   "version": "3.12.3"
  }
 },
 "nbformat": 4,
 "nbformat_minor": 2
}
