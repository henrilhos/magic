{
 "cells": [
  {
   "cell_type": "code",
   "execution_count": 1,
   "metadata": {},
   "outputs": [],
   "source": [
    "from datetime import datetime\n",
    "from services.db_service import DbService\n",
    "\n",
    "decks_collection = DbService().deck_collection()\n",
    "tournaments_collection = DbService().events_collection()"
   ]
  },
  {
   "cell_type": "code",
   "execution_count": 2,
   "metadata": {},
   "outputs": [],
   "source": [
    "def get_archetypes(limit=10, offset=0):\n",
    "    date = datetime.strptime(\"2024-05-13\", \"%Y-%m-%d\")\n",
    "    archetypes = tournaments_collection.aggregate([{\"$match\": {\"date\": {\"$gte\": date}}},\n",
    "                                             {\"$project\": {\n",
    "                                                 \"decklists\": \"$players.decklist\"}},\n",
    "                                             {\"$unwind\": \"$decklists\"},\n",
    "                                             {\"$group\": {\"_id\": \"$decklists\"}},\n",
    "                                             {\"$lookup\": {\n",
    "                                                 \"from\": \"decklists\", \"localField\": \"_id\", \"foreignField\": \"_id\", \"as\": \"decklists\"}},\n",
    "                                             {\"$unwind\": \"$decklists\"},\n",
    "                                             {\"$match\": {\n",
    "                                                 \"decklists.banned\": {\"$ne\": True}}},\n",
    "                                             {\"$group\": {\n",
    "                                                 \"_id\": \"$decklists.name\", \"count\": {\"$sum\": 1}}},\n",
    "                                             {\"$sort\": {\"count\": -1}},\n",
    "                                             {\"$skip\": offset}, {\"$limit\": limit},])\n",
    "\n",
    "    return list(archetypes)"
   ]
  },
  {
   "cell_type": "code",
   "execution_count": 3,
   "metadata": {},
   "outputs": [],
   "source": [
    "def get_minimum_decks(count):\n",
    "    return round((count * 5)/100)\n",
    "\n",
    "\n",
    "def get_archetype_pool(archetype, minimum_decks):\n",
    "    date = datetime.strptime(\"2024-05-13\", \"%Y-%m-%d\")\n",
    "    pool = tournaments_collection.aggregate([{\"$match\": {\"date\": {\"$gte\": date}}},\n",
    "                                             {\"$project\": {\n",
    "                                                 \"decklists\": \"$players.decklist\"}},\n",
    "                                             {\"$unwind\": \"$decklists\"},\n",
    "                                             {\"$group\": {\"_id\": \"$decklists\"}},\n",
    "                                             {\"$lookup\": {\"from\": \"decklists\", \"localField\": \"_id\",\n",
    "                                                          \"foreignField\": \"_id\", \"as\": \"decklists\"}},\n",
    "                                             {\"$unwind\": \"$decklists\"},\n",
    "                                             {\"$match\": {\"decklists.banned\": {\n",
    "                                                 \"$ne\": True}, \"decklists.name\": {\"$eq\": archetype}}},\n",
    "                                             {\"$project\": {\"_id\": \"$decklists._id\", \"cards\": {\n",
    "                                                 \"$concatArrays\": [\"$decklists.maindeck\", \"$decklists.sideboard\"]}}},\n",
    "                                             {\"$unwind\": \"$cards\"},\n",
    "                                             {\"$group\": {\n",
    "                                                 \"_id\": {\"_id\": \"$_id\", \"card\": \"$cards\"}, \"count\": {\"$sum\": 1}}},\n",
    "                                             {\"$group\": {\"_id\": \"$_id.card\", \"count\": {\n",
    "                                                 \"$max\": \"$count\"}, \"total_decks\": {\"$sum\": 1}}},\n",
    "                                             {\"$lookup\": {\"from\": \"pool\", \"localField\": \"_id\",\n",
    "                                                          \"foreignField\": \"name\", \"as\": \"pool\"}},\n",
    "                                             {\"$unwind\": \"$pool\"},\n",
    "                                             {\"$project\": {\"_id\": 0, \"card\": \"$pool.scryfall_name\",\n",
    "                                                           \"count\": 1, \"total_decks\": 1}},\n",
    "                                             {\"$lookup\": {\"from\": \"personal_pool\", \"localField\": \"card\",\n",
    "                                                          \"foreignField\": \"scryfall_name\", \"as\": \"personal_pool\"}},\n",
    "                                             {\"$unwind\": {\"path\": \"$personal_pool\",\n",
    "                                                          \"preserveNullAndEmptyArrays\": True}},\n",
    "                                             {\"$project\": {\"card\": 1, \"total_decks\": 1, \"count\": {\n",
    "                                                 \"$subtract\": [\"$count\", {\"$ifNull\": [\"$personal_pool.count\", 0]}]}}},\n",
    "                                             {\"$match\": {\"count\": {\"$gt\": 0}, \"total_decks\": {\n",
    "                                                 \"$gte\": minimum_decks}}},\n",
    "                                             {\"$sort\": {\"card\": 1}}])\n",
    "\n",
    "    return list(pool)"
   ]
  },
  {
   "cell_type": "code",
   "execution_count": 4,
   "metadata": {},
   "outputs": [],
   "source": [
    "\n",
    "offset = 0\n",
    "limit = 50\n",
    "archetypes = get_archetypes(offset=offset, limit=limit)\n",
    "\n",
    "for archetype in archetypes:\n",
    "    file_name = f\"{archetype[\"_id\"]}.txt\"\n",
    "\n",
    "    pool = get_archetype_pool(\n",
    "        archetype[\"_id\"], get_minimum_decks(archetype[\"count\"]))\n",
    "    with open(f\"../archetypes-wishlist/{file_name}\", \"w\") as f:\n",
    "        for card in pool:\n",
    "            f.write(f\"{card['count']} {card['card']}\\n\")"
   ]
  }
 ],
 "metadata": {
  "kernelspec": {
   "display_name": "Python 3",
   "language": "python",
   "name": "python3"
  },
  "language_info": {
   "codemirror_mode": {
    "name": "ipython",
    "version": 3
   },
   "file_extension": ".py",
   "mimetype": "text/x-python",
   "name": "python",
   "nbconvert_exporter": "python",
   "pygments_lexer": "ipython3",
   "version": "3.12.3"
  }
 },
 "nbformat": 4,
 "nbformat_minor": 2
}
