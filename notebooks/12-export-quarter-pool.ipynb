{
 "cells": [
  {
   "cell_type": "code",
   "execution_count": 15,
   "metadata": {},
   "outputs": [],
   "source": [
    "from pymongo import ASCENDING\n",
    "from services.db_service import DbService\n",
    "from datetime import datetime"
   ]
  },
  {
   "cell_type": "code",
   "execution_count": 16,
   "metadata": {},
   "outputs": [],
   "source": [
    "tournaments = DbService().events_collection()"
   ]
  },
  {
   "cell_type": "code",
   "execution_count": 17,
   "metadata": {},
   "outputs": [],
   "source": [
    "colors = {\n",
    "    \"W\": \"01-white.txt\",\n",
    "    \"U\": \"02-blue.txt\",\n",
    "    \"B\": \"03-black.txt\",\n",
    "    \"R\": \"04-red.txt\",\n",
    "    \"G\": \"05-green.txt\",\n",
    "    \"M\": \"06-multicolored.txt\",\n",
    "    \"C\": \"07-colorless.txt\",\n",
    "    \"L\": \"08-lands.txt\",\n",
    "}"
   ]
  },
  {
   "cell_type": "code",
   "execution_count": 18,
   "metadata": {},
   "outputs": [],
   "source": [
    "def get_pipeline(color):\n",
    "    return [\n",
    "        {\"$match\": {\"date\": {\"$gte\": datetime.strptime(\n",
    "            \"2024-04-01\", \"%Y-%m-%d\"), \"$lt\": datetime.strptime(\"2024-07-01\", \"%Y-%m-%d\")}}},\n",
    "        {\"$project\": {\"decklists\": \"$players.decklist\"}},\n",
    "        {\"$unwind\": \"$decklists\"},\n",
    "        {\"$group\": {\"_id\": \"$decklists\"}},\n",
    "        {\"$lookup\": {\"from\": \"decklists\", \"localField\": \"_id\",\n",
    "                     \"foreignField\": \"_id\", \"as\": \"decklists\"}},\n",
    "        {\"$unwind\": \"$decklists\"},\n",
    "        {\"$match\": {\"decklists.banned\": {\"$ne\": True}}},\n",
    "        {\"$project\": {\"_id\": \"$decklists._id\", \"cards\": {\n",
    "            \"$concatArrays\": [\"$decklists.maindeck\", \"$decklists.sideboard\"]}}},\n",
    "        {\"$unwind\": \"$cards\"},\n",
    "        {\"$group\": {\"_id\": {\"_id\": \"$_id\", \"name\": \"$cards\"}, \"count\": {\"$sum\": 1}}},\n",
    "        {\"$project\": {\"_id\": \"$_id._id\", \"name\": \"$_id.name\", \"count\": 1}},\n",
    "        {\"$group\": {\"_id\": \"$name\", \"count\": {\n",
    "            \"$max\": \"$count\"}, \"total_decks\": {\"$sum\": 1}}},\n",
    "        {\"$match\": {\"total_decks\": {\"$gte\": 9}}},\n",
    "        {\"$lookup\": {\"from\": \"pool\", \"localField\": \"_id\",\n",
    "                     \"foreignField\": \"name\", \"as\": \"pool\"}},\n",
    "        {\"$unwind\": \"$pool\"},\n",
    "        {\"$project\": {\n",
    "            \"_id\": \"$pool._id\", color: \"$pool.color\", \"name\": \"$pool.name\", \"scryfall_name\": \"$pool.scryfall_name\",\n",
    "            \"count\": 1, \"total_decks\": 1\n",
    "        }},\n",
    "        {\"$match\": {color: color}},\n",
    "        {\"$sort\": {\"name\": 1}},\n",
    "    ]"
   ]
  },
  {
   "cell_type": "code",
   "execution_count": 19,
   "metadata": {},
   "outputs": [],
   "source": [
    "for color, file in colors.items():    \n",
    "    cards = list(tournaments.aggregate(get_pipeline(color)))\n",
    "    with open(f\"../pool/{file}\", \"w\") as f:\n",
    "        for card in cards:\n",
    "            f.write(f\"{card['count']} {card['scryfall_name']}\\n\")"
   ]
  }
 ],
 "metadata": {
  "kernelspec": {
   "display_name": "Python 3",
   "language": "python",
   "name": "python3"
  },
  "language_info": {
   "codemirror_mode": {
    "name": "ipython",
    "version": 3
   },
   "file_extension": ".py",
   "mimetype": "text/x-python",
   "name": "python",
   "nbconvert_exporter": "python",
   "pygments_lexer": "ipython3",
   "version": "3.12.3"
  }
 },
 "nbformat": 4,
 "nbformat_minor": 2
}
