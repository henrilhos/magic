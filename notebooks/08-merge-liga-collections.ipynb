{
 "cells": [
  {
   "cell_type": "markdown",
   "id": "a38d373c81b4b5eb",
   "metadata": {},
   "source": [
    "# Merge multiple LigaMagic collections into a single .csv file\n",
    "\n",
    "Please, always use the export format as: [Padrão LigaMagic CSV [Modelo para Coleções]]"
   ]
  },
  {
   "cell_type": "code",
   "execution_count": 48,
   "id": "e24b6faacce42706",
   "metadata": {
    "ExecuteTime": {
     "end_time": "2024-04-21T06:21:53.801084Z",
     "start_time": "2024-04-21T06:21:53.798888Z"
    }
   },
   "outputs": [],
   "source": [
    "import pandas as pd\n",
    "import os\n",
    "import csv"
   ]
  },
  {
   "cell_type": "code",
   "execution_count": 77,
   "id": "4aeb9f8f2be76bc8",
   "metadata": {
    "ExecuteTime": {
     "end_time": "2024-04-21T06:32:35.738496Z",
     "start_time": "2024-04-21T06:32:35.723514Z"
    }
   },
   "outputs": [],
   "source": [
    "csv_directory = '../merge-liga-collections'\n",
    "result_directory = f\"{csv_directory}/result/ligamagic.csv\"\n",
    "\n",
    "csv_files = [f for f in os.listdir(csv_directory) if f.endswith('.csv')]\n",
    "\n",
    "dfs = []\n",
    "\n",
    "for csv_file in csv_files:\n",
    "    df = pd.read_csv(os.path.join(csv_directory, csv_file), encoding=\"ISO-8859-1\")\n",
    "    dfs.append(df)\n",
    "\n",
    "merged_df = pd.concat(dfs, ignore_index=True)\n",
    "\n",
    "merged_df.to_csv(result_directory, header=True, index=False, doublequote=False, escapechar=\"\\\\\", quoting=csv.QUOTE_ALL)"
   ]
  }
 ],
 "metadata": {
  "kernelspec": {
   "display_name": "Python 3",
   "language": "python",
   "name": "python3"
  },
  "language_info": {
   "codemirror_mode": {
    "name": "ipython",
    "version": 2
   },
   "file_extension": ".py",
   "mimetype": "text/x-python",
   "name": "python",
   "nbconvert_exporter": "python",
   "pygments_lexer": "ipython2",
   "version": "2.7.6"
  }
 },
 "nbformat": 4,
 "nbformat_minor": 5
}
