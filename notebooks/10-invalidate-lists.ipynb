{
 "cells": [
  {
   "cell_type": "code",
   "execution_count": 17,
   "metadata": {},
   "outputs": [],
   "source": [
    "from services.db_service import DbService\n",
    "from services.utils import get_banned_cards\n",
    "\n",
    "decks_collection = DbService().deck_collection()"
   ]
  },
  {
   "cell_type": "code",
   "execution_count": 18,
   "metadata": {},
   "outputs": [],
   "source": [
    "banned_cards = get_banned_cards()\n",
    "\n",
    "pipeline = [\n",
    "    {\"$project\": {\"maindeck\": 1, \"sideboard\": 1, \"name\": 1}},\n",
    "    {\"$project\": {\"_id\": 1, \"name\": 1, \"cards\": {\n",
    "        \"$concatArrays\": [\"$maindeck\", \"$sideboard\"]}}},\n",
    "    {\"$unwind\": \"$cards\"},\n",
    "    {\"$group\": {\"_id\": {\"_id\": \"$_id\", \"name\": \"$name\"},\n",
    "                \"found_cards\": {\"$addToSet\": \"$cards\"}}},\n",
    "    {\"$match\": {\"found_cards\": {\"$in\": banned_cards}}},\n",
    "    {\"$project\": {\"_id\": \"$_id._id\"}}\n",
    "]"
   ]
  },
  {
   "cell_type": "code",
   "execution_count": 19,
   "metadata": {},
   "outputs": [
    {
     "data": {
      "text/plain": [
       "UpdateResult({'n': 251, 'nModified': 0, 'ok': 1.0, 'updatedExisting': True}, acknowledged=True)"
      ]
     },
     "execution_count": 19,
     "metadata": {},
     "output_type": "execute_result"
    }
   ],
   "source": [
    "decks = [deck[\"_id\"] for deck in decks_collection.aggregate(pipeline)]\n",
    "\n",
    "decks_collection.update_many({\"_id\": {\"$in\": decks}}, {\n",
    "                             \"$set\": {\"restricted\": True}})"
   ]
  }
 ],
 "metadata": {
  "kernelspec": {
   "display_name": "Python 3",
   "language": "python",
   "name": "python3"
  },
  "language_info": {
   "codemirror_mode": {
    "name": "ipython",
    "version": 3
   },
   "file_extension": ".py",
   "mimetype": "text/x-python",
   "name": "python",
   "nbconvert_exporter": "python",
   "pygments_lexer": "ipython3",
   "version": "3.12.3"
  }
 },
 "nbformat": 4,
 "nbformat_minor": 2
}
