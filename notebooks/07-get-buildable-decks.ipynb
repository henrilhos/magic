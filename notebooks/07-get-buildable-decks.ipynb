{
 "cells": [
  {
   "cell_type": "code",
   "metadata": {},
   "source": "from services.db_service import DbService",
   "outputs": [],
   "execution_count": null
  },
  {
   "cell_type": "code",
   "metadata": {},
   "source": [
    "decks_collection = DbService().deck_collection()\n",
    "personal_pool_collection = DbService().personal_pool_collection()"
   ],
   "outputs": [],
   "execution_count": null
  },
  {
   "cell_type": "code",
   "metadata": {},
   "source": [
    "pipeline = [\n",
    "    {\"$project\": {\"all_cards\": {\"$concatArrays\": [\n",
    "        \"$maindeck\", \"$sideboard\"]}, \"name\": 1}},\n",
    "    {\"$unwind\": \"$all_cards\"},\n",
    "    {\"$group\": {\"_id\": {\"_id\": \"$_id\", \"card_name\": \"$all_cards\",\n",
    "                        \"name\": \"$name\"}, \"count\": {\"$sum\": 1}}},\n",
    "    {\"$group\": {\"_id\": \"$_id._id\", \"name\": {\"$first\": \"$_id.name\"},\n",
    "                \"cards\": {\"$push\": {\"name\": \"$_id.card_name\", \"count\": \"$count\"}}}}\n",
    "]\n",
    "\n",
    "decks = list(decks_collection.aggregate(pipeline))\n",
    "decks"
   ],
   "outputs": [],
   "execution_count": null
  },
  {
   "cell_type": "code",
   "metadata": {},
   "source": [
    "personal_pool = {}\n",
    "for card in personal_pool_collection.find({}, {\"name\": 1, \"count\": 1, \"_id\": 0}):\n",
    "    personal_pool[card[\"name\"]] = card[\"count\"]\n",
    "\n",
    "personal_pool"
   ],
   "outputs": [],
   "execution_count": null
  },
  {
   "cell_type": "code",
   "metadata": {},
   "source": [
    "usable_decks = []\n",
    "for deck in decks:\n",
    "    can_build = True\n",
    "    for card in deck[\"cards\"]:\n",
    "        if card[\"name\"] not in personal_pool or personal_pool[card[\"name\"]] < card[\"count\"]:\n",
    "            can_build = False\n",
    "            break\n",
    "    if can_build:\n",
    "        usable_decks.append(deck[\"_id\"])"
   ],
   "outputs": [],
   "execution_count": null
  },
  {
   "cell_type": "code",
   "metadata": {},
   "source": [
    "for deck_id in usable_decks:\n",
    "    deck = decks_collection.find_one({\"_id\": deck_id})\n",
    "    print(f\"{deck[\"name\"]} ({deck[\"_id\"]})\")"
   ],
   "outputs": [],
   "execution_count": null
  }
 ],
 "metadata": {
  "kernelspec": {
   "display_name": "Python 3",
   "language": "python",
   "name": "python3"
  },
  "language_info": {
   "codemirror_mode": {
    "name": "ipython",
    "version": 3
   },
   "file_extension": ".py",
   "mimetype": "text/x-python",
   "name": "python",
   "nbconvert_exporter": "python",
   "pygments_lexer": "ipython3",
   "version": "3.12.3"
  }
 },
 "nbformat": 4,
 "nbformat_minor": 2
}
